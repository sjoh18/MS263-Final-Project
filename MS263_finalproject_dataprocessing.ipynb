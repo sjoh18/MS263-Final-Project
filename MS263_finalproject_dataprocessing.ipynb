{
 "cells": [
  {
   "cell_type": "markdown",
   "id": "11590dd9-7f20-44e6-aafb-bf27442c247a",
   "metadata": {},
   "source": [
    "# MS263 Final Project data processing"
   ]
  },
  {
   "cell_type": "markdown",
   "id": "c7890bd0-3981-4531-bae3-ce027643e0e4",
   "metadata": {},
   "source": [
    "## Chlorophyll data"
   ]
  },
  {
   "cell_type": "code",
   "execution_count": 1,
   "id": "032da964-1d20-47ee-ad14-5f8c9e7cda03",
   "metadata": {},
   "outputs": [],
   "source": [
    "import os\n",
    "import numpy as np\n",
    "import netCDF4 as nc4\n",
    "from SJ_tools import final_proj_functions as func"
   ]
  },
  {
   "cell_type": "code",
   "execution_count": 2,
   "id": "d344aef3-e54f-4753-bfe5-ff934ff80456",
   "metadata": {},
   "outputs": [],
   "source": [
    "chlor_folder = '/Volumes/TOSHIBAEXT/Thesis_data/Chlor-a'"
   ]
  },
  {
   "cell_type": "markdown",
   "id": "2be37f9d-e3e5-4ad7-b794-6ddcb21244dc",
   "metadata": {},
   "source": [
    "#### Read in the data from NetCDF files"
   ]
  },
  {
   "cell_type": "markdown",
   "id": "640bfb5d-b532-4a34-958f-25d10e5fd248",
   "metadata": {},
   "source": [
    "The following blocks of code:\n",
    "\n",
    "- Put each year of data values and dates into separate arrays\n",
    "- Combine those arrays into two: one for values, one for dates\n",
    "\n",
    "How to run this code:\n",
    "\n",
    "1. Start by running cell 1 to create functions (SHOULD I PUT THESE IN MODULE TOO?)\n",
    "2. Call the functions\n",
    "3. Run the **NaN Removal/renaming cell** that corresponds to 2002\n",
    "4. Go back to cell 1, change the file_year variable to reflect the next year\n",
    "5. Run the **NaN Removal/renaming cell** that corresponds to the new year\n",
    "6. Repeat steps 3 and 4 until there are value and date arrays for each data year (2002-2015)\n",
    "\n",
    "\n",
    "**If/when I put the functions into my module:**\n",
    "\n",
    "1. "
   ]
  },
  {
   "cell_type": "markdown",
   "id": "063ded55-6af9-4c30-83e2-993a710d36c1",
   "metadata": {},
   "source": [
    "#### Cell 1"
   ]
  },
  {
   "cell_type": "code",
   "execution_count": 3,
   "id": "1cbb0fc3-16e3-49a6-8744-41ab11088b14",
   "metadata": {},
   "outputs": [],
   "source": [
    "# function to read in chl data and arrange file names into a list\n",
    "\n",
    "def chl_files_ext(year, chlor_folder):\n",
    "    chl_data_files = []\n",
    "\n",
    "    for file_name in os.listdir(chlor_folder):\n",
    "        if file_name[:4] =='AQUA':\n",
    "            # file_year = 2008\n",
    "            year = int(file_name[11:15])\n",
    "            if year == file_year:\n",
    "                chl_data_files.append(file_name)\n",
    "\n",
    "    chl_data_files.sort()\n",
    "\n",
    "    return chl_data_files"
   ]
  },
  {
   "cell_type": "markdown",
   "id": "cebc8569-669d-4c8e-8088-ea62b112fe28",
   "metadata": {},
   "source": [
    "#### Cell 2"
   ]
  },
  {
   "cell_type": "code",
   "execution_count": 4,
   "id": "f0f09104-573d-4352-9553-508a2f9a57e0",
   "metadata": {},
   "outputs": [],
   "source": [
    "# function to extract sample date from each chl file and put them into a list of datetime64 objects\n",
    "# input: result from chl_data_ext function\n",
    "\n",
    "def chl_dates_ext(chl_data_files, file_year):\n",
    "    chl_date_list = []\n",
    "\n",
    "    for file_name in chl_data_files:\n",
    "        year = int(file_name[11:15])\n",
    "        if year == file_year:\n",
    "            month = file_name.split('.')[1][4:6]\n",
    "            day = file_name.split('.')[1][6:8]\n",
    "        \n",
    "        chl_date_string = str(year)+'-'+month+'-'+day\n",
    "        chl_date_list.append(chl_date_string)\n",
    "\n",
    "    chl_date_array = np.array(chl_date_list, dtype='datetime64')\n",
    "\n",
    "    return chl_date_array"
   ]
  },
  {
   "cell_type": "markdown",
   "id": "9cf6496d-06f6-4c35-9616-cc83454554ee",
   "metadata": {},
   "source": [
    "#### Cell 3"
   ]
  },
  {
   "cell_type": "code",
   "execution_count": 15,
   "id": "79cf5772-255c-49e3-ad1a-b9755e44f151",
   "metadata": {},
   "outputs": [],
   "source": [
    "\n",
    "# function to extract chl values from data files and arrange them into an array\n",
    "# input is outcome from chl_data_ext function\n",
    "def chl_values_ext(chl_data_files):\n",
    "    chl_values = []\n",
    "\n",
    "    for file_name in chl_data_files:\n",
    "    \n",
    "        print(file_name)\n",
    "\n",
    "        file_path = chlor_folder + '/' + file_name\n",
    "\n",
    "        chlor = func.read_chl_from_file(file_path)\n",
    "        HDF5_USE_FILE_LOCKING = False\n",
    "\n",
    "        chl_values.append(chlor)\n",
    "        # chl_values = np.array(chl_values)\n",
    "\n",
    "    return chl_values\n"
   ]
  },
  {
   "cell_type": "code",
   "execution_count": 8,
   "id": "4a0af745-141d-4ca4-908d-04ba5123707d",
   "metadata": {
    "scrolled": true
   },
   "outputs": [
    {
     "name": "stdout",
     "output_type": "stream",
     "text": [
      "['AQUA_MODIS.20020704.L3m.DAY.CHL.chlor_a.4km.nc', 'AQUA_MODIS.20020705.L3m.DAY.CHL.chlor_a.4km.nc', 'AQUA_MODIS.20020706.L3m.DAY.CHL.chlor_a.4km.nc', 'AQUA_MODIS.20020707.L3m.DAY.CHL.chlor_a.4km.nc', 'AQUA_MODIS.20020708.L3m.DAY.CHL.chlor_a.4km.nc', 'AQUA_MODIS.20020709.L3m.DAY.CHL.chlor_a.4km.nc', 'AQUA_MODIS.20020710.L3m.DAY.CHL.chlor_a.4km.nc', 'AQUA_MODIS.20020711.L3m.DAY.CHL.chlor_a.4km.nc', 'AQUA_MODIS.20020712.L3m.DAY.CHL.chlor_a.4km.nc', 'AQUA_MODIS.20020713.L3m.DAY.CHL.chlor_a.4km.nc', 'AQUA_MODIS.20020714.L3m.DAY.CHL.chlor_a.4km.nc', 'AQUA_MODIS.20020715.L3m.DAY.CHL.chlor_a.4km.nc', 'AQUA_MODIS.20020716.L3m.DAY.CHL.chlor_a.4km.nc', 'AQUA_MODIS.20020717.L3m.DAY.CHL.chlor_a.4km.nc', 'AQUA_MODIS.20020718.L3m.DAY.CHL.chlor_a.4km.nc', 'AQUA_MODIS.20020719.L3m.DAY.CHL.chlor_a.4km.nc', 'AQUA_MODIS.20020720.L3m.DAY.CHL.chlor_a.4km.nc', 'AQUA_MODIS.20020721.L3m.DAY.CHL.chlor_a.4km.nc', 'AQUA_MODIS.20020722.L3m.DAY.CHL.chlor_a.4km.nc', 'AQUA_MODIS.20020723.L3m.DAY.CHL.chlor_a.4km.nc', 'AQUA_MODIS.20020724.L3m.DAY.CHL.chlor_a.4km.nc', 'AQUA_MODIS.20020725.L3m.DAY.CHL.chlor_a.4km.nc', 'AQUA_MODIS.20020726.L3m.DAY.CHL.chlor_a.4km.nc', 'AQUA_MODIS.20020727.L3m.DAY.CHL.chlor_a.4km.nc', 'AQUA_MODIS.20020728.L3m.DAY.CHL.chlor_a.4km.nc', 'AQUA_MODIS.20020729.L3m.DAY.CHL.chlor_a.4km.nc', 'AQUA_MODIS.20020806.L3m.DAY.CHL.chlor_a.4km.nc', 'AQUA_MODIS.20020807.L3m.DAY.CHL.chlor_a.4km.nc', 'AQUA_MODIS.20020808.L3m.DAY.CHL.chlor_a.4km.nc', 'AQUA_MODIS.20020809.L3m.DAY.CHL.chlor_a.4km.nc', 'AQUA_MODIS.20020810.L3m.DAY.CHL.chlor_a.4km.nc', 'AQUA_MODIS.20020811.L3m.DAY.CHL.chlor_a.4km.nc', 'AQUA_MODIS.20020812.L3m.DAY.CHL.chlor_a.4km.nc', 'AQUA_MODIS.20020813.L3m.DAY.CHL.chlor_a.4km.nc', 'AQUA_MODIS.20020814.L3m.DAY.CHL.chlor_a.4km.nc', 'AQUA_MODIS.20020815.L3m.DAY.CHL.chlor_a.4km.nc', 'AQUA_MODIS.20020816.L3m.DAY.CHL.chlor_a.4km.nc', 'AQUA_MODIS.20020817.L3m.DAY.CHL.chlor_a.4km.nc', 'AQUA_MODIS.20020818.L3m.DAY.CHL.chlor_a.4km.nc', 'AQUA_MODIS.20020819.L3m.DAY.CHL.chlor_a.4km.nc', 'AQUA_MODIS.20020820.L3m.DAY.CHL.chlor_a.4km.nc', 'AQUA_MODIS.20020821.L3m.DAY.CHL.chlor_a.4km.nc', 'AQUA_MODIS.20020822.L3m.DAY.CHL.chlor_a.4km.nc', 'AQUA_MODIS.20020823.L3m.DAY.CHL.chlor_a.4km.nc', 'AQUA_MODIS.20020824.L3m.DAY.CHL.chlor_a.4km.nc', 'AQUA_MODIS.20020825.L3m.DAY.CHL.chlor_a.4km.nc', 'AQUA_MODIS.20020826.L3m.DAY.CHL.chlor_a.4km.nc', 'AQUA_MODIS.20020827.L3m.DAY.CHL.chlor_a.4km.nc', 'AQUA_MODIS.20020828.L3m.DAY.CHL.chlor_a.4km.nc', 'AQUA_MODIS.20020829.L3m.DAY.CHL.chlor_a.4km.nc', 'AQUA_MODIS.20020830.L3m.DAY.CHL.chlor_a.4km.nc', 'AQUA_MODIS.20020831.L3m.DAY.CHL.chlor_a.4km.nc', 'AQUA_MODIS.20020901.L3m.DAY.CHL.chlor_a.4km.nc', 'AQUA_MODIS.20020902.L3m.DAY.CHL.chlor_a.4km.nc', 'AQUA_MODIS.20020903.L3m.DAY.CHL.chlor_a.4km.nc', 'AQUA_MODIS.20020904.L3m.DAY.CHL.chlor_a.4km.nc', 'AQUA_MODIS.20020905.L3m.DAY.CHL.chlor_a.4km.nc', 'AQUA_MODIS.20020906.L3m.DAY.CHL.chlor_a.4km.nc', 'AQUA_MODIS.20020907.L3m.DAY.CHL.chlor_a.4km.nc', 'AQUA_MODIS.20020908.L3m.DAY.CHL.chlor_a.4km.nc', 'AQUA_MODIS.20020909.L3m.DAY.CHL.chlor_a.4km.nc', 'AQUA_MODIS.20020910.L3m.DAY.CHL.chlor_a.4km.nc', 'AQUA_MODIS.20020911.L3m.DAY.CHL.chlor_a.4km.nc', 'AQUA_MODIS.20020912.L3m.DAY.CHL.chlor_a.4km.nc', 'AQUA_MODIS.20020913.L3m.DAY.CHL.chlor_a.4km.nc', 'AQUA_MODIS.20020914.L3m.DAY.CHL.chlor_a.4km.nc', 'AQUA_MODIS.20020915.L3m.DAY.CHL.chlor_a.4km.nc', 'AQUA_MODIS.20020916.L3m.DAY.CHL.chlor_a.4km.nc', 'AQUA_MODIS.20020917.L3m.DAY.CHL.chlor_a.4km.nc', 'AQUA_MODIS.20020918.L3m.DAY.CHL.chlor_a.4km.nc', 'AQUA_MODIS.20020919.L3m.DAY.CHL.chlor_a.4km.nc', 'AQUA_MODIS.20020920.L3m.DAY.CHL.chlor_a.4km.nc', 'AQUA_MODIS.20020921.L3m.DAY.CHL.chlor_a.4km.nc', 'AQUA_MODIS.20020922.L3m.DAY.CHL.chlor_a.4km.nc', 'AQUA_MODIS.20020923.L3m.DAY.CHL.chlor_a.4km.nc', 'AQUA_MODIS.20020924.L3m.DAY.CHL.chlor_a.4km.nc', 'AQUA_MODIS.20020925.L3m.DAY.CHL.chlor_a.4km.nc', 'AQUA_MODIS.20020926.L3m.DAY.CHL.chlor_a.4km.nc', 'AQUA_MODIS.20020927.L3m.DAY.CHL.chlor_a.4km.nc', 'AQUA_MODIS.20020928.L3m.DAY.CHL.chlor_a.4km.nc', 'AQUA_MODIS.20020929.L3m.DAY.CHL.chlor_a.4km.nc', 'AQUA_MODIS.20020930.L3m.DAY.CHL.chlor_a.4km.nc', 'AQUA_MODIS.20021001.L3m.DAY.CHL.chlor_a.4km.nc', 'AQUA_MODIS.20021002.L3m.DAY.CHL.chlor_a.4km.nc', 'AQUA_MODIS.20021003.L3m.DAY.CHL.chlor_a.4km.nc', 'AQUA_MODIS.20021004.L3m.DAY.CHL.chlor_a.4km.nc', 'AQUA_MODIS.20021005.L3m.DAY.CHL.chlor_a.4km.nc', 'AQUA_MODIS.20021006.L3m.DAY.CHL.chlor_a.4km.nc', 'AQUA_MODIS.20021007.L3m.DAY.CHL.chlor_a.4km.nc', 'AQUA_MODIS.20021008.L3m.DAY.CHL.chlor_a.4km.nc', 'AQUA_MODIS.20021009.L3m.DAY.CHL.chlor_a.4km.nc', 'AQUA_MODIS.20021010.L3m.DAY.CHL.chlor_a.4km.nc', 'AQUA_MODIS.20021011.L3m.DAY.CHL.chlor_a.4km.nc', 'AQUA_MODIS.20021012.L3m.DAY.CHL.chlor_a.4km.nc', 'AQUA_MODIS.20021013.L3m.DAY.CHL.chlor_a.4km.nc', 'AQUA_MODIS.20021014.L3m.DAY.CHL.chlor_a.4km.nc', 'AQUA_MODIS.20021015.L3m.DAY.CHL.chlor_a.4km.nc', 'AQUA_MODIS.20021016.L3m.DAY.CHL.chlor_a.4km.nc', 'AQUA_MODIS.20021017.L3m.DAY.CHL.chlor_a.4km.nc', 'AQUA_MODIS.20021018.L3m.DAY.CHL.chlor_a.4km.nc', 'AQUA_MODIS.20021019.L3m.DAY.CHL.chlor_a.4km.nc', 'AQUA_MODIS.20021020.L3m.DAY.CHL.chlor_a.4km.nc', 'AQUA_MODIS.20021021.L3m.DAY.CHL.chlor_a.4km.nc', 'AQUA_MODIS.20021022.L3m.DAY.CHL.chlor_a.4km.nc', 'AQUA_MODIS.20021023.L3m.DAY.CHL.chlor_a.4km.nc', 'AQUA_MODIS.20021024.L3m.DAY.CHL.chlor_a.4km.nc', 'AQUA_MODIS.20021025.L3m.DAY.CHL.chlor_a.4km.nc', 'AQUA_MODIS.20021026.L3m.DAY.CHL.chlor_a.4km.nc', 'AQUA_MODIS.20021027.L3m.DAY.CHL.chlor_a.4km.nc', 'AQUA_MODIS.20021028.L3m.DAY.CHL.chlor_a.4km.nc', 'AQUA_MODIS.20021029.L3m.DAY.CHL.chlor_a.4km.nc', 'AQUA_MODIS.20021030.L3m.DAY.CHL.chlor_a.4km.nc', 'AQUA_MODIS.20021031.L3m.DAY.CHL.chlor_a.4km.nc', 'AQUA_MODIS.20021101.L3m.DAY.CHL.chlor_a.4km.nc', 'AQUA_MODIS.20021102.L3m.DAY.CHL.chlor_a.4km.nc', 'AQUA_MODIS.20021103.L3m.DAY.CHL.chlor_a.4km.nc', 'AQUA_MODIS.20021104.L3m.DAY.CHL.chlor_a.4km.nc', 'AQUA_MODIS.20021105.L3m.DAY.CHL.chlor_a.4km.nc', 'AQUA_MODIS.20021106.L3m.DAY.CHL.chlor_a.4km.nc', 'AQUA_MODIS.20021107.L3m.DAY.CHL.chlor_a.4km.nc', 'AQUA_MODIS.20021108.L3m.DAY.CHL.chlor_a.4km.nc', 'AQUA_MODIS.20021109.L3m.DAY.CHL.chlor_a.4km.nc', 'AQUA_MODIS.20021110.L3m.DAY.CHL.chlor_a.4km.nc', 'AQUA_MODIS.20021111.L3m.DAY.CHL.chlor_a.4km.nc', 'AQUA_MODIS.20021112.L3m.DAY.CHL.chlor_a.4km.nc', 'AQUA_MODIS.20021113.L3m.DAY.CHL.chlor_a.4km.nc', 'AQUA_MODIS.20021114.L3m.DAY.CHL.chlor_a.4km.nc', 'AQUA_MODIS.20021115.L3m.DAY.CHL.chlor_a.4km.nc', 'AQUA_MODIS.20021116.L3m.DAY.CHL.chlor_a.4km.nc', 'AQUA_MODIS.20021117.L3m.DAY.CHL.chlor_a.4km.nc', 'AQUA_MODIS.20021118.L3m.DAY.CHL.chlor_a.4km.nc', 'AQUA_MODIS.20021119.L3m.DAY.CHL.chlor_a.4km.nc', 'AQUA_MODIS.20021120.L3m.DAY.CHL.chlor_a.4km.nc', 'AQUA_MODIS.20021121.L3m.DAY.CHL.chlor_a.4km.nc', 'AQUA_MODIS.20021122.L3m.DAY.CHL.chlor_a.4km.nc', 'AQUA_MODIS.20021123.L3m.DAY.CHL.chlor_a.4km.nc', 'AQUA_MODIS.20021124.L3m.DAY.CHL.chlor_a.4km.nc', 'AQUA_MODIS.20021125.L3m.DAY.CHL.chlor_a.4km.nc', 'AQUA_MODIS.20021126.L3m.DAY.CHL.chlor_a.4km.nc', 'AQUA_MODIS.20021127.L3m.DAY.CHL.chlor_a.4km.nc', 'AQUA_MODIS.20021128.L3m.DAY.CHL.chlor_a.4km.nc', 'AQUA_MODIS.20021129.L3m.DAY.CHL.chlor_a.4km.nc', 'AQUA_MODIS.20021130.L3m.DAY.CHL.chlor_a.4km.nc', 'AQUA_MODIS.20021201.L3m.DAY.CHL.chlor_a.4km.nc', 'AQUA_MODIS.20021202.L3m.DAY.CHL.chlor_a.4km.nc', 'AQUA_MODIS.20021203.L3m.DAY.CHL.chlor_a.4km.nc', 'AQUA_MODIS.20021204.L3m.DAY.CHL.chlor_a.4km.nc', 'AQUA_MODIS.20021205.L3m.DAY.CHL.chlor_a.4km.nc', 'AQUA_MODIS.20021206.L3m.DAY.CHL.chlor_a.4km.nc', 'AQUA_MODIS.20021207.L3m.DAY.CHL.chlor_a.4km.nc', 'AQUA_MODIS.20021208.L3m.DAY.CHL.chlor_a.4km.nc', 'AQUA_MODIS.20021209.L3m.DAY.CHL.chlor_a.4km.nc', 'AQUA_MODIS.20021210.L3m.DAY.CHL.chlor_a.4km.nc', 'AQUA_MODIS.20021211.L3m.DAY.CHL.chlor_a.4km.nc', 'AQUA_MODIS.20021212.L3m.DAY.CHL.chlor_a.4km.nc', 'AQUA_MODIS.20021213.L3m.DAY.CHL.chlor_a.4km.nc', 'AQUA_MODIS.20021214.L3m.DAY.CHL.chlor_a.4km.nc', 'AQUA_MODIS.20021215.L3m.DAY.CHL.chlor_a.4km.nc', 'AQUA_MODIS.20021216.L3m.DAY.CHL.chlor_a.4km.nc', 'AQUA_MODIS.20021217.L3m.DAY.CHL.chlor_a.4km.nc', 'AQUA_MODIS.20021218.L3m.DAY.CHL.chlor_a.4km.nc', 'AQUA_MODIS.20021219.L3m.DAY.CHL.chlor_a.4km.nc', 'AQUA_MODIS.20021220.L3m.DAY.CHL.chlor_a.4km.nc', 'AQUA_MODIS.20021221.L3m.DAY.CHL.chlor_a.4km.nc', 'AQUA_MODIS.20021222.L3m.DAY.CHL.chlor_a.4km.nc', 'AQUA_MODIS.20021223.L3m.DAY.CHL.chlor_a.4km.nc', 'AQUA_MODIS.20021224.L3m.DAY.CHL.chlor_a.4km.nc', 'AQUA_MODIS.20021225.L3m.DAY.CHL.chlor_a.4km.nc', 'AQUA_MODIS.20021226.L3m.DAY.CHL.chlor_a.4km.nc', 'AQUA_MODIS.20021227.L3m.DAY.CHL.chlor_a.4km.nc', 'AQUA_MODIS.20021228.L3m.DAY.CHL.chlor_a.4km.nc', 'AQUA_MODIS.20021229.L3m.DAY.CHL.chlor_a.4km.nc', 'AQUA_MODIS.20021230.L3m.DAY.CHL.chlor_a.4km.nc', 'AQUA_MODIS.20021231.L3m.DAY.CHL.chlor_a.4km.nc']\n"
     ]
    }
   ],
   "source": [
    "chl_data_files = chl_files_ext(file_year, chlor_folder)\n",
    "print(chl_data_files)"
   ]
  },
  {
   "cell_type": "code",
   "execution_count": 9,
   "id": "2320dd94-0be0-4757-89a3-9e09ac69b32e",
   "metadata": {
    "scrolled": true
   },
   "outputs": [
    {
     "name": "stdout",
     "output_type": "stream",
     "text": [
      "['2002-07-04' '2002-07-05' '2002-07-06' '2002-07-07' '2002-07-08'\n",
      " '2002-07-09' '2002-07-10' '2002-07-11' '2002-07-12' '2002-07-13'\n",
      " '2002-07-14' '2002-07-15' '2002-07-16' '2002-07-17' '2002-07-18'\n",
      " '2002-07-19' '2002-07-20' '2002-07-21' '2002-07-22' '2002-07-23'\n",
      " '2002-07-24' '2002-07-25' '2002-07-26' '2002-07-27' '2002-07-28'\n",
      " '2002-07-29' '2002-08-06' '2002-08-07' '2002-08-08' '2002-08-09'\n",
      " '2002-08-10' '2002-08-11' '2002-08-12' '2002-08-13' '2002-08-14'\n",
      " '2002-08-15' '2002-08-16' '2002-08-17' '2002-08-18' '2002-08-19'\n",
      " '2002-08-20' '2002-08-21' '2002-08-22' '2002-08-23' '2002-08-24'\n",
      " '2002-08-25' '2002-08-26' '2002-08-27' '2002-08-28' '2002-08-29'\n",
      " '2002-08-30' '2002-08-31' '2002-09-01' '2002-09-02' '2002-09-03'\n",
      " '2002-09-04' '2002-09-05' '2002-09-06' '2002-09-07' '2002-09-08'\n",
      " '2002-09-09' '2002-09-10' '2002-09-11' '2002-09-12' '2002-09-13'\n",
      " '2002-09-14' '2002-09-15' '2002-09-16' '2002-09-17' '2002-09-18'\n",
      " '2002-09-19' '2002-09-20' '2002-09-21' '2002-09-22' '2002-09-23'\n",
      " '2002-09-24' '2002-09-25' '2002-09-26' '2002-09-27' '2002-09-28'\n",
      " '2002-09-29' '2002-09-30' '2002-10-01' '2002-10-02' '2002-10-03'\n",
      " '2002-10-04' '2002-10-05' '2002-10-06' '2002-10-07' '2002-10-08'\n",
      " '2002-10-09' '2002-10-10' '2002-10-11' '2002-10-12' '2002-10-13'\n",
      " '2002-10-14' '2002-10-15' '2002-10-16' '2002-10-17' '2002-10-18'\n",
      " '2002-10-19' '2002-10-20' '2002-10-21' '2002-10-22' '2002-10-23'\n",
      " '2002-10-24' '2002-10-25' '2002-10-26' '2002-10-27' '2002-10-28'\n",
      " '2002-10-29' '2002-10-30' '2002-10-31' '2002-11-01' '2002-11-02'\n",
      " '2002-11-03' '2002-11-04' '2002-11-05' '2002-11-06' '2002-11-07'\n",
      " '2002-11-08' '2002-11-09' '2002-11-10' '2002-11-11' '2002-11-12'\n",
      " '2002-11-13' '2002-11-14' '2002-11-15' '2002-11-16' '2002-11-17'\n",
      " '2002-11-18' '2002-11-19' '2002-11-20' '2002-11-21' '2002-11-22'\n",
      " '2002-11-23' '2002-11-24' '2002-11-25' '2002-11-26' '2002-11-27'\n",
      " '2002-11-28' '2002-11-29' '2002-11-30' '2002-12-01' '2002-12-02'\n",
      " '2002-12-03' '2002-12-04' '2002-12-05' '2002-12-06' '2002-12-07'\n",
      " '2002-12-08' '2002-12-09' '2002-12-10' '2002-12-11' '2002-12-12'\n",
      " '2002-12-13' '2002-12-14' '2002-12-15' '2002-12-16' '2002-12-17'\n",
      " '2002-12-18' '2002-12-19' '2002-12-20' '2002-12-21' '2002-12-22'\n",
      " '2002-12-23' '2002-12-24' '2002-12-25' '2002-12-26' '2002-12-27'\n",
      " '2002-12-28' '2002-12-29' '2002-12-30' '2002-12-31']\n"
     ]
    }
   ],
   "source": [
    "chl_date_array = chl_dates_ext(chl_data_files, file_year)\n",
    "print(chl_date_array)"
   ]
  },
  {
   "cell_type": "code",
   "execution_count": 16,
   "id": "003a863e-a105-486c-98d7-e9265f48fee5",
   "metadata": {
    "scrolled": true
   },
   "outputs": [
    {
     "name": "stdout",
     "output_type": "stream",
     "text": [
      "AQUA_MODIS.20020704.L3m.DAY.CHL.chlor_a.4km.nc\n",
      "AQUA_MODIS.20020705.L3m.DAY.CHL.chlor_a.4km.nc\n",
      "AQUA_MODIS.20020706.L3m.DAY.CHL.chlor_a.4km.nc\n",
      "AQUA_MODIS.20020707.L3m.DAY.CHL.chlor_a.4km.nc\n",
      "AQUA_MODIS.20020708.L3m.DAY.CHL.chlor_a.4km.nc\n",
      "AQUA_MODIS.20020709.L3m.DAY.CHL.chlor_a.4km.nc\n",
      "AQUA_MODIS.20020710.L3m.DAY.CHL.chlor_a.4km.nc\n",
      "AQUA_MODIS.20020711.L3m.DAY.CHL.chlor_a.4km.nc\n",
      "AQUA_MODIS.20020712.L3m.DAY.CHL.chlor_a.4km.nc\n",
      "AQUA_MODIS.20020713.L3m.DAY.CHL.chlor_a.4km.nc\n",
      "AQUA_MODIS.20020714.L3m.DAY.CHL.chlor_a.4km.nc\n",
      "AQUA_MODIS.20020715.L3m.DAY.CHL.chlor_a.4km.nc\n",
      "AQUA_MODIS.20020716.L3m.DAY.CHL.chlor_a.4km.nc\n",
      "AQUA_MODIS.20020717.L3m.DAY.CHL.chlor_a.4km.nc\n",
      "AQUA_MODIS.20020718.L3m.DAY.CHL.chlor_a.4km.nc\n",
      "AQUA_MODIS.20020719.L3m.DAY.CHL.chlor_a.4km.nc\n",
      "AQUA_MODIS.20020720.L3m.DAY.CHL.chlor_a.4km.nc\n",
      "AQUA_MODIS.20020721.L3m.DAY.CHL.chlor_a.4km.nc\n",
      "AQUA_MODIS.20020722.L3m.DAY.CHL.chlor_a.4km.nc\n",
      "AQUA_MODIS.20020723.L3m.DAY.CHL.chlor_a.4km.nc\n",
      "AQUA_MODIS.20020724.L3m.DAY.CHL.chlor_a.4km.nc\n",
      "AQUA_MODIS.20020725.L3m.DAY.CHL.chlor_a.4km.nc\n",
      "AQUA_MODIS.20020726.L3m.DAY.CHL.chlor_a.4km.nc\n",
      "AQUA_MODIS.20020727.L3m.DAY.CHL.chlor_a.4km.nc\n",
      "AQUA_MODIS.20020728.L3m.DAY.CHL.chlor_a.4km.nc\n",
      "AQUA_MODIS.20020729.L3m.DAY.CHL.chlor_a.4km.nc\n",
      "AQUA_MODIS.20020806.L3m.DAY.CHL.chlor_a.4km.nc\n",
      "AQUA_MODIS.20020807.L3m.DAY.CHL.chlor_a.4km.nc\n",
      "AQUA_MODIS.20020808.L3m.DAY.CHL.chlor_a.4km.nc\n",
      "AQUA_MODIS.20020809.L3m.DAY.CHL.chlor_a.4km.nc\n",
      "AQUA_MODIS.20020810.L3m.DAY.CHL.chlor_a.4km.nc\n",
      "AQUA_MODIS.20020811.L3m.DAY.CHL.chlor_a.4km.nc\n",
      "AQUA_MODIS.20020812.L3m.DAY.CHL.chlor_a.4km.nc\n",
      "AQUA_MODIS.20020813.L3m.DAY.CHL.chlor_a.4km.nc\n",
      "AQUA_MODIS.20020814.L3m.DAY.CHL.chlor_a.4km.nc\n",
      "AQUA_MODIS.20020815.L3m.DAY.CHL.chlor_a.4km.nc\n",
      "AQUA_MODIS.20020816.L3m.DAY.CHL.chlor_a.4km.nc\n",
      "AQUA_MODIS.20020817.L3m.DAY.CHL.chlor_a.4km.nc\n",
      "AQUA_MODIS.20020818.L3m.DAY.CHL.chlor_a.4km.nc\n",
      "AQUA_MODIS.20020819.L3m.DAY.CHL.chlor_a.4km.nc\n",
      "AQUA_MODIS.20020820.L3m.DAY.CHL.chlor_a.4km.nc\n",
      "AQUA_MODIS.20020821.L3m.DAY.CHL.chlor_a.4km.nc\n",
      "AQUA_MODIS.20020822.L3m.DAY.CHL.chlor_a.4km.nc\n",
      "AQUA_MODIS.20020823.L3m.DAY.CHL.chlor_a.4km.nc\n",
      "AQUA_MODIS.20020824.L3m.DAY.CHL.chlor_a.4km.nc\n",
      "AQUA_MODIS.20020825.L3m.DAY.CHL.chlor_a.4km.nc\n",
      "AQUA_MODIS.20020826.L3m.DAY.CHL.chlor_a.4km.nc\n",
      "AQUA_MODIS.20020827.L3m.DAY.CHL.chlor_a.4km.nc\n",
      "AQUA_MODIS.20020828.L3m.DAY.CHL.chlor_a.4km.nc\n",
      "AQUA_MODIS.20020829.L3m.DAY.CHL.chlor_a.4km.nc\n",
      "AQUA_MODIS.20020830.L3m.DAY.CHL.chlor_a.4km.nc\n",
      "AQUA_MODIS.20020831.L3m.DAY.CHL.chlor_a.4km.nc\n",
      "AQUA_MODIS.20020901.L3m.DAY.CHL.chlor_a.4km.nc\n",
      "AQUA_MODIS.20020902.L3m.DAY.CHL.chlor_a.4km.nc\n",
      "AQUA_MODIS.20020903.L3m.DAY.CHL.chlor_a.4km.nc\n",
      "AQUA_MODIS.20020904.L3m.DAY.CHL.chlor_a.4km.nc\n",
      "AQUA_MODIS.20020905.L3m.DAY.CHL.chlor_a.4km.nc\n",
      "AQUA_MODIS.20020906.L3m.DAY.CHL.chlor_a.4km.nc\n",
      "AQUA_MODIS.20020907.L3m.DAY.CHL.chlor_a.4km.nc\n",
      "AQUA_MODIS.20020908.L3m.DAY.CHL.chlor_a.4km.nc\n",
      "AQUA_MODIS.20020909.L3m.DAY.CHL.chlor_a.4km.nc\n",
      "AQUA_MODIS.20020910.L3m.DAY.CHL.chlor_a.4km.nc\n",
      "AQUA_MODIS.20020911.L3m.DAY.CHL.chlor_a.4km.nc\n",
      "AQUA_MODIS.20020912.L3m.DAY.CHL.chlor_a.4km.nc\n",
      "AQUA_MODIS.20020913.L3m.DAY.CHL.chlor_a.4km.nc\n",
      "AQUA_MODIS.20020914.L3m.DAY.CHL.chlor_a.4km.nc\n",
      "AQUA_MODIS.20020915.L3m.DAY.CHL.chlor_a.4km.nc\n",
      "AQUA_MODIS.20020916.L3m.DAY.CHL.chlor_a.4km.nc\n",
      "AQUA_MODIS.20020917.L3m.DAY.CHL.chlor_a.4km.nc\n",
      "AQUA_MODIS.20020918.L3m.DAY.CHL.chlor_a.4km.nc\n",
      "AQUA_MODIS.20020919.L3m.DAY.CHL.chlor_a.4km.nc\n",
      "AQUA_MODIS.20020920.L3m.DAY.CHL.chlor_a.4km.nc\n",
      "AQUA_MODIS.20020921.L3m.DAY.CHL.chlor_a.4km.nc\n",
      "AQUA_MODIS.20020922.L3m.DAY.CHL.chlor_a.4km.nc\n",
      "AQUA_MODIS.20020923.L3m.DAY.CHL.chlor_a.4km.nc\n",
      "AQUA_MODIS.20020924.L3m.DAY.CHL.chlor_a.4km.nc\n",
      "AQUA_MODIS.20020925.L3m.DAY.CHL.chlor_a.4km.nc\n",
      "AQUA_MODIS.20020926.L3m.DAY.CHL.chlor_a.4km.nc\n",
      "AQUA_MODIS.20020927.L3m.DAY.CHL.chlor_a.4km.nc\n",
      "AQUA_MODIS.20020928.L3m.DAY.CHL.chlor_a.4km.nc\n",
      "AQUA_MODIS.20020929.L3m.DAY.CHL.chlor_a.4km.nc\n",
      "AQUA_MODIS.20020930.L3m.DAY.CHL.chlor_a.4km.nc\n",
      "AQUA_MODIS.20021001.L3m.DAY.CHL.chlor_a.4km.nc\n",
      "AQUA_MODIS.20021002.L3m.DAY.CHL.chlor_a.4km.nc\n",
      "AQUA_MODIS.20021003.L3m.DAY.CHL.chlor_a.4km.nc\n",
      "AQUA_MODIS.20021004.L3m.DAY.CHL.chlor_a.4km.nc\n",
      "AQUA_MODIS.20021005.L3m.DAY.CHL.chlor_a.4km.nc\n",
      "AQUA_MODIS.20021006.L3m.DAY.CHL.chlor_a.4km.nc\n",
      "AQUA_MODIS.20021007.L3m.DAY.CHL.chlor_a.4km.nc\n",
      "AQUA_MODIS.20021008.L3m.DAY.CHL.chlor_a.4km.nc\n",
      "AQUA_MODIS.20021009.L3m.DAY.CHL.chlor_a.4km.nc\n",
      "AQUA_MODIS.20021010.L3m.DAY.CHL.chlor_a.4km.nc\n",
      "AQUA_MODIS.20021011.L3m.DAY.CHL.chlor_a.4km.nc\n",
      "AQUA_MODIS.20021012.L3m.DAY.CHL.chlor_a.4km.nc\n",
      "AQUA_MODIS.20021013.L3m.DAY.CHL.chlor_a.4km.nc\n",
      "AQUA_MODIS.20021014.L3m.DAY.CHL.chlor_a.4km.nc\n",
      "AQUA_MODIS.20021015.L3m.DAY.CHL.chlor_a.4km.nc\n",
      "AQUA_MODIS.20021016.L3m.DAY.CHL.chlor_a.4km.nc\n",
      "AQUA_MODIS.20021017.L3m.DAY.CHL.chlor_a.4km.nc\n",
      "AQUA_MODIS.20021018.L3m.DAY.CHL.chlor_a.4km.nc\n",
      "AQUA_MODIS.20021019.L3m.DAY.CHL.chlor_a.4km.nc\n",
      "AQUA_MODIS.20021020.L3m.DAY.CHL.chlor_a.4km.nc\n",
      "AQUA_MODIS.20021021.L3m.DAY.CHL.chlor_a.4km.nc\n",
      "AQUA_MODIS.20021022.L3m.DAY.CHL.chlor_a.4km.nc\n",
      "AQUA_MODIS.20021023.L3m.DAY.CHL.chlor_a.4km.nc\n",
      "AQUA_MODIS.20021024.L3m.DAY.CHL.chlor_a.4km.nc\n",
      "AQUA_MODIS.20021025.L3m.DAY.CHL.chlor_a.4km.nc\n",
      "AQUA_MODIS.20021026.L3m.DAY.CHL.chlor_a.4km.nc\n",
      "AQUA_MODIS.20021027.L3m.DAY.CHL.chlor_a.4km.nc\n",
      "AQUA_MODIS.20021028.L3m.DAY.CHL.chlor_a.4km.nc\n",
      "AQUA_MODIS.20021029.L3m.DAY.CHL.chlor_a.4km.nc\n",
      "AQUA_MODIS.20021030.L3m.DAY.CHL.chlor_a.4km.nc\n",
      "AQUA_MODIS.20021031.L3m.DAY.CHL.chlor_a.4km.nc\n",
      "AQUA_MODIS.20021101.L3m.DAY.CHL.chlor_a.4km.nc\n",
      "AQUA_MODIS.20021102.L3m.DAY.CHL.chlor_a.4km.nc\n",
      "AQUA_MODIS.20021103.L3m.DAY.CHL.chlor_a.4km.nc\n",
      "AQUA_MODIS.20021104.L3m.DAY.CHL.chlor_a.4km.nc\n",
      "AQUA_MODIS.20021105.L3m.DAY.CHL.chlor_a.4km.nc\n",
      "AQUA_MODIS.20021106.L3m.DAY.CHL.chlor_a.4km.nc\n",
      "AQUA_MODIS.20021107.L3m.DAY.CHL.chlor_a.4km.nc\n",
      "AQUA_MODIS.20021108.L3m.DAY.CHL.chlor_a.4km.nc\n",
      "AQUA_MODIS.20021109.L3m.DAY.CHL.chlor_a.4km.nc\n",
      "AQUA_MODIS.20021110.L3m.DAY.CHL.chlor_a.4km.nc\n",
      "AQUA_MODIS.20021111.L3m.DAY.CHL.chlor_a.4km.nc\n",
      "AQUA_MODIS.20021112.L3m.DAY.CHL.chlor_a.4km.nc\n",
      "AQUA_MODIS.20021113.L3m.DAY.CHL.chlor_a.4km.nc\n",
      "AQUA_MODIS.20021114.L3m.DAY.CHL.chlor_a.4km.nc\n",
      "AQUA_MODIS.20021115.L3m.DAY.CHL.chlor_a.4km.nc\n",
      "AQUA_MODIS.20021116.L3m.DAY.CHL.chlor_a.4km.nc\n",
      "AQUA_MODIS.20021117.L3m.DAY.CHL.chlor_a.4km.nc\n",
      "AQUA_MODIS.20021118.L3m.DAY.CHL.chlor_a.4km.nc\n",
      "AQUA_MODIS.20021119.L3m.DAY.CHL.chlor_a.4km.nc\n",
      "AQUA_MODIS.20021120.L3m.DAY.CHL.chlor_a.4km.nc\n",
      "AQUA_MODIS.20021121.L3m.DAY.CHL.chlor_a.4km.nc\n",
      "AQUA_MODIS.20021122.L3m.DAY.CHL.chlor_a.4km.nc\n",
      "AQUA_MODIS.20021123.L3m.DAY.CHL.chlor_a.4km.nc\n",
      "AQUA_MODIS.20021124.L3m.DAY.CHL.chlor_a.4km.nc\n",
      "AQUA_MODIS.20021125.L3m.DAY.CHL.chlor_a.4km.nc\n",
      "AQUA_MODIS.20021126.L3m.DAY.CHL.chlor_a.4km.nc\n",
      "AQUA_MODIS.20021127.L3m.DAY.CHL.chlor_a.4km.nc\n",
      "AQUA_MODIS.20021128.L3m.DAY.CHL.chlor_a.4km.nc\n",
      "AQUA_MODIS.20021129.L3m.DAY.CHL.chlor_a.4km.nc\n",
      "AQUA_MODIS.20021130.L3m.DAY.CHL.chlor_a.4km.nc\n",
      "AQUA_MODIS.20021201.L3m.DAY.CHL.chlor_a.4km.nc\n",
      "AQUA_MODIS.20021202.L3m.DAY.CHL.chlor_a.4km.nc\n",
      "AQUA_MODIS.20021203.L3m.DAY.CHL.chlor_a.4km.nc\n",
      "AQUA_MODIS.20021204.L3m.DAY.CHL.chlor_a.4km.nc\n",
      "AQUA_MODIS.20021205.L3m.DAY.CHL.chlor_a.4km.nc\n",
      "AQUA_MODIS.20021206.L3m.DAY.CHL.chlor_a.4km.nc\n",
      "AQUA_MODIS.20021207.L3m.DAY.CHL.chlor_a.4km.nc\n",
      "AQUA_MODIS.20021208.L3m.DAY.CHL.chlor_a.4km.nc\n",
      "AQUA_MODIS.20021209.L3m.DAY.CHL.chlor_a.4km.nc\n",
      "AQUA_MODIS.20021210.L3m.DAY.CHL.chlor_a.4km.nc\n",
      "AQUA_MODIS.20021211.L3m.DAY.CHL.chlor_a.4km.nc\n",
      "AQUA_MODIS.20021212.L3m.DAY.CHL.chlor_a.4km.nc\n",
      "AQUA_MODIS.20021213.L3m.DAY.CHL.chlor_a.4km.nc\n",
      "AQUA_MODIS.20021214.L3m.DAY.CHL.chlor_a.4km.nc\n",
      "AQUA_MODIS.20021215.L3m.DAY.CHL.chlor_a.4km.nc\n",
      "AQUA_MODIS.20021216.L3m.DAY.CHL.chlor_a.4km.nc\n",
      "AQUA_MODIS.20021217.L3m.DAY.CHL.chlor_a.4km.nc\n",
      "AQUA_MODIS.20021218.L3m.DAY.CHL.chlor_a.4km.nc\n",
      "AQUA_MODIS.20021219.L3m.DAY.CHL.chlor_a.4km.nc\n",
      "AQUA_MODIS.20021220.L3m.DAY.CHL.chlor_a.4km.nc\n",
      "AQUA_MODIS.20021221.L3m.DAY.CHL.chlor_a.4km.nc\n",
      "AQUA_MODIS.20021222.L3m.DAY.CHL.chlor_a.4km.nc\n",
      "AQUA_MODIS.20021223.L3m.DAY.CHL.chlor_a.4km.nc\n",
      "AQUA_MODIS.20021224.L3m.DAY.CHL.chlor_a.4km.nc\n",
      "AQUA_MODIS.20021225.L3m.DAY.CHL.chlor_a.4km.nc\n",
      "AQUA_MODIS.20021226.L3m.DAY.CHL.chlor_a.4km.nc\n",
      "AQUA_MODIS.20021227.L3m.DAY.CHL.chlor_a.4km.nc\n",
      "AQUA_MODIS.20021228.L3m.DAY.CHL.chlor_a.4km.nc\n",
      "AQUA_MODIS.20021229.L3m.DAY.CHL.chlor_a.4km.nc\n",
      "AQUA_MODIS.20021230.L3m.DAY.CHL.chlor_a.4km.nc\n",
      "AQUA_MODIS.20021231.L3m.DAY.CHL.chlor_a.4km.nc\n",
      "[-32767.0, 1.5834202, -32767.0, 5.6399803, -32767.0, -32767.0, -32767.0, -32767.0, -32767.0, -32767.0, 18.705877, -32767.0, -32767.0, -32767.0, -32767.0, -32767.0, -32767.0, -32767.0, -32767.0, 1.8499051, 5.946313, -32767.0, -32767.0, -32767.0, 5.8615565, -32767.0, -32767.0, -32767.0, 3.8386955, -32767.0, -32767.0, -32767.0, -32767.0, -32767.0, -32767.0, -32767.0, -32767.0, -32767.0, -32767.0, -32767.0, 8.565569, -32767.0, -32767.0, -32767.0, -32767.0, -32767.0, -32767.0, -32767.0, -32767.0, -32767.0, -32767.0, -32767.0, 2.0806434, 1.4589809, -32767.0, 2.964971, -32767.0, 4.094244, 4.8897395, 23.128544, 44.01853, -32767.0, -32767.0, -32767.0, 8.398916, 14.215401, 22.121101, 31.540815, -32767.0, 20.72456, -32767.0, -32767.0, -32767.0, -32767.0, 4.852075, 4.709831, -32767.0, -32767.0, -32767.0, -32767.0, 0.79307175, -32767.0, -32767.0, 2.4875777, 3.1129024, 1.9134445, -32767.0, 9.691218, 33.90455, 12.449794, -32767.0, -32767.0, 10.5904255, -32767.0, -32767.0, -32767.0, -32767.0, -32767.0, 1.9763846, -32767.0, -32767.0, -32767.0, -32767.0, -32767.0, -32767.0, -32767.0, 25.00626, -32767.0, 3.2236118, -32767.0, 1.7953231, -32767.0, 2.3975658, -32767.0, -32767.0, -32767.0, -32767.0, 29.877398, -32767.0, -32767.0, -32767.0, -32767.0, -32767.0, 1.5919333, -32767.0, -32767.0, 7.5660825, -32767.0, -32767.0, 3.9300582, -32767.0, 2.071067, -32767.0, 3.438893, -32767.0, -32767.0, 0.6543897, 4.2163234, 4.151938, 2.5442047, 2.788323, -32767.0, -32767.0, -32767.0, 4.385661, -32767.0, -32767.0, -32767.0, -32767.0, 1.3456492, -32767.0, -32767.0, -32767.0, 0.7729999, -32767.0, -32767.0, -32767.0, -32767.0, -32767.0, -32767.0, 2.583206, -32767.0, -32767.0, -32767.0, 1.0044382, 0.8910546, -32767.0, -32767.0, -32767.0, -32767.0, -32767.0, -32767.0, -32767.0, -32767.0]\n"
     ]
    }
   ],
   "source": [
    "chl_values = chl_values_ext(chl_data_files)\n",
    "print(chl_values)"
   ]
  },
  {
   "cell_type": "code",
   "execution_count": 27,
   "id": "26f9bd7a-d46f-41a7-93ad-dfc1471c8ff9",
   "metadata": {},
   "outputs": [],
   "source": [
    "# function to remove nans\n",
    "\n",
    "def remove_nans(chl_values, chl_date_array, year):\n",
    "    chl_values = np.array(chl_values)\n",
    "    values_nonans = np.where(chl_values == -3.2767e+04, 0, chl_values)\n",
    "    \n",
    "    # for value in value_array:\n",
    "    #     value_array = chl_values+'_'+year\n",
    "    # for date in date_array:\n",
    "    #     date_array = chl_dates+'_'+year\n",
    "\n",
    "    return(values_nonans)"
   ]
  },
  {
   "cell_type": "markdown",
   "id": "05e86dc6-bca2-41c0-9d5e-cee5d0eff406",
   "metadata": {},
   "source": [
    "#### 2002"
   ]
  },
  {
   "cell_type": "code",
   "execution_count": 6,
   "id": "80a0c757-653e-40de-9c37-551cd4cc47c7",
   "metadata": {},
   "outputs": [],
   "source": [
    "file_year = 2002"
   ]
  },
  {
   "cell_type": "code",
   "execution_count": 32,
   "id": "fe25fb7c-4048-479e-90ad-5252e6aff809",
   "metadata": {
    "scrolled": true
   },
   "outputs": [],
   "source": [
    "chl_values_02 = remove_nans(chl_values, chl_date_array, file_year)\n",
    "chl_dates_02 = chl_date_array\n",
    "\n",
    "# double check arrays look correct\n",
    "\n",
    "# print(chl_values_02)\n",
    "# print(chlor_dates_02)"
   ]
  },
  {
   "cell_type": "markdown",
   "id": "b2e9023b-a301-4e00-9b76-b5be631fdd99",
   "metadata": {},
   "source": [
    "#### 2003"
   ]
  },
  {
   "cell_type": "code",
   "execution_count": null,
   "id": "38a373c3-39eb-4c99-92d9-9d6dfb3db67b",
   "metadata": {},
   "outputs": [],
   "source": [
    "file_year = 2003"
   ]
  },
  {
   "cell_type": "code",
   "execution_count": 32,
   "id": "fed7bb79-5dc7-46a2-bc4e-cba9c84764ee",
   "metadata": {
    "scrolled": true
   },
   "outputs": [],
   "source": [
    "chl_values_03 = remove_nans(chl_values, chl_date_array, file_year)\n",
    "chl_dates_03 = chl_date_array\n",
    "\n",
    "# double check arrays look correct\n",
    "\n",
    "# print(chl_values_02)\n",
    "# print(chlor_dates_02)"
   ]
  },
  {
   "cell_type": "markdown",
   "id": "c85bb343-6d53-4db3-87d3-d8904244044c",
   "metadata": {},
   "source": [
    "#### 2004"
   ]
  },
  {
   "cell_type": "code",
   "execution_count": null,
   "id": "72bc6a38-cca9-49ad-8584-f42ba134bbe5",
   "metadata": {},
   "outputs": [],
   "source": [
    "file_year = 2004"
   ]
  },
  {
   "cell_type": "code",
   "execution_count": 32,
   "id": "be772041-2d16-4d35-a603-e49e58193c99",
   "metadata": {
    "scrolled": true
   },
   "outputs": [],
   "source": [
    "chl_values_04 = remove_nans(chl_values, chl_date_array, file_year)\n",
    "chl_dates_04 = chl_date_array\n",
    "\n",
    "# double check arrays look correct\n",
    "\n",
    "# print(chl_values_02)\n",
    "# print(chlor_dates_02)"
   ]
  },
  {
   "cell_type": "markdown",
   "id": "50d6ab98-a32f-49d8-9ed2-294ce00857b3",
   "metadata": {},
   "source": [
    "#### 2005"
   ]
  },
  {
   "cell_type": "code",
   "execution_count": null,
   "id": "49bbd9cc-a602-4cf8-97fd-baabb5fb6561",
   "metadata": {},
   "outputs": [],
   "source": [
    "file_year = 2005"
   ]
  },
  {
   "cell_type": "code",
   "execution_count": 32,
   "id": "c6222ce2-f38f-4766-8f36-79fca07a0188",
   "metadata": {
    "scrolled": true
   },
   "outputs": [],
   "source": [
    "chl_values_05 = remove_nans(chl_values, chl_date_array, file_year)\n",
    "chl_dates_05 = chl_date_array\n",
    "\n",
    "# double check arrays look correct\n",
    "\n",
    "# print(chl_values_02)\n",
    "# print(chlor_dates_02)"
   ]
  },
  {
   "cell_type": "markdown",
   "id": "ecdc3acd-4a45-42a5-a643-6158ba78ec26",
   "metadata": {},
   "source": [
    "#### 2006"
   ]
  },
  {
   "cell_type": "code",
   "execution_count": null,
   "id": "e4c8e0ce-1469-4166-9f9f-136698d61720",
   "metadata": {},
   "outputs": [],
   "source": [
    "file_year = 2006"
   ]
  },
  {
   "cell_type": "code",
   "execution_count": 32,
   "id": "19f3c6b6-641c-4429-8210-e675bbaf7bb2",
   "metadata": {
    "scrolled": true
   },
   "outputs": [],
   "source": [
    "chl_values_06 = remove_nans(chl_values, chl_date_array, file_year)\n",
    "chl_dates_06 = chl_date_array\n",
    "\n",
    "# double check arrays look correct\n",
    "\n",
    "# print(chl_values_02)\n",
    "# print(chlor_dates_02)"
   ]
  },
  {
   "cell_type": "markdown",
   "id": "9a2f53ec-bedb-418d-b5c6-58312f243009",
   "metadata": {},
   "source": [
    "#### 2007"
   ]
  },
  {
   "cell_type": "code",
   "execution_count": null,
   "id": "870e2f1d-de2f-4da4-bfc8-74559ba5d69a",
   "metadata": {},
   "outputs": [],
   "source": [
    "file_year = 2007"
   ]
  },
  {
   "cell_type": "code",
   "execution_count": 32,
   "id": "2a15fd4f-7b21-4d89-bd65-017c5b9c585b",
   "metadata": {
    "scrolled": true
   },
   "outputs": [],
   "source": [
    "chl_values_07 = remove_nans(chl_values, chl_date_array, file_year)\n",
    "chl_dates_07 = chl_date_array\n",
    "\n",
    "# double check arrays look correct\n",
    "\n",
    "# print(chl_values_02)\n",
    "# print(chlor_dates_02)"
   ]
  },
  {
   "cell_type": "markdown",
   "id": "c6495dac-58a3-43ca-a7f8-af63ab954289",
   "metadata": {},
   "source": [
    "#### 2008"
   ]
  },
  {
   "cell_type": "code",
   "execution_count": null,
   "id": "fb892c47-d3e2-47fb-86f2-eea47a6e41e0",
   "metadata": {},
   "outputs": [],
   "source": [
    "file_year = 2008"
   ]
  },
  {
   "cell_type": "code",
   "execution_count": 32,
   "id": "e12870f4-f4a0-4224-ba82-9eb9ac739ca8",
   "metadata": {
    "scrolled": true
   },
   "outputs": [],
   "source": [
    "chl_values_08 = remove_nans(chl_values, chl_date_array, file_year)\n",
    "chl_dates_08 = chl_date_array\n",
    "\n",
    "# double check arrays look correct\n",
    "\n",
    "# print(chl_values_02)\n",
    "# print(chlor_dates_02)"
   ]
  },
  {
   "cell_type": "markdown",
   "id": "8ef942c1-33f9-45d9-bff5-7e65da2baa05",
   "metadata": {},
   "source": [
    "#### 2009"
   ]
  },
  {
   "cell_type": "code",
   "execution_count": null,
   "id": "68260205-654d-4fdb-89c6-c02dc36aea6c",
   "metadata": {},
   "outputs": [],
   "source": [
    "file_year = 2009"
   ]
  },
  {
   "cell_type": "code",
   "execution_count": 32,
   "id": "add3a955-ee8c-40d0-b507-51c3baeca924",
   "metadata": {
    "scrolled": true
   },
   "outputs": [],
   "source": [
    "chl_values_09 = remove_nans(chl_values, chl_date_array, file_year)\n",
    "chl_dates_09 = chl_date_array\n",
    "\n",
    "# double check arrays look correct\n",
    "\n",
    "# print(chl_values_02)\n",
    "# print(chlor_dates_02)"
   ]
  },
  {
   "cell_type": "markdown",
   "id": "0cdab45d-3f42-46d7-bc28-8494cf68089b",
   "metadata": {},
   "source": [
    "#### 2010"
   ]
  },
  {
   "cell_type": "code",
   "execution_count": null,
   "id": "b8687a0a-6cba-404b-8137-3a7fe8414b13",
   "metadata": {},
   "outputs": [],
   "source": [
    "file_year = 2010"
   ]
  },
  {
   "cell_type": "code",
   "execution_count": 32,
   "id": "9bc648a2-17ee-47d1-84d3-8214f01b49c1",
   "metadata": {
    "scrolled": true
   },
   "outputs": [],
   "source": [
    "chl_values_10 = remove_nans(chl_values, chl_date_array, file_year)\n",
    "chl_dates_10 = chl_date_array\n",
    "\n",
    "# double check arrays look correct\n",
    "\n",
    "# print(chl_values_02)\n",
    "# print(chlor_dates_02)"
   ]
  },
  {
   "cell_type": "markdown",
   "id": "5d2556cf-9e56-4b77-9e5e-1e465173e7e0",
   "metadata": {},
   "source": [
    "#### 2011"
   ]
  },
  {
   "cell_type": "code",
   "execution_count": null,
   "id": "e1b45069-e834-46e7-ae28-146293da364c",
   "metadata": {},
   "outputs": [],
   "source": [
    "file_year = 2011"
   ]
  },
  {
   "cell_type": "code",
   "execution_count": 32,
   "id": "ab4626b1-05a6-4557-9c00-3eb6e9f89c2a",
   "metadata": {
    "scrolled": true
   },
   "outputs": [],
   "source": [
    "chl_values_11 = remove_nans(chl_values, chl_date_array, file_year)\n",
    "chl_dates_11 = chl_date_array\n",
    "\n",
    "# double check arrays look correct\n",
    "\n",
    "# print(chl_values_02)\n",
    "# print(chlor_dates_02)"
   ]
  },
  {
   "cell_type": "markdown",
   "id": "73cbeb48-e07b-45d4-90c6-d8e46a60fc61",
   "metadata": {},
   "source": [
    "#### 2012"
   ]
  },
  {
   "cell_type": "code",
   "execution_count": null,
   "id": "577392b9-a8d0-4872-a900-20ffe2f63e7b",
   "metadata": {},
   "outputs": [],
   "source": [
    "file_year = 2012"
   ]
  },
  {
   "cell_type": "code",
   "execution_count": 32,
   "id": "546cfdc2-c3a7-469c-ba75-c465860ecd49",
   "metadata": {
    "scrolled": true
   },
   "outputs": [],
   "source": [
    "chl_values_12 = remove_nans(chl_values, chl_date_array, file_year)\n",
    "chl_dates_12 = chl_date_array\n",
    "\n",
    "# double check arrays look correct\n",
    "\n",
    "# print(chl_values_02)\n",
    "# print(chlor_dates_02)"
   ]
  },
  {
   "cell_type": "markdown",
   "id": "a0ca2e29-d48d-40e8-94a0-9ff1971ad0d7",
   "metadata": {},
   "source": [
    "#### 2013"
   ]
  },
  {
   "cell_type": "code",
   "execution_count": null,
   "id": "a6fdfb52-2664-4aab-84c3-8f1864cb11e6",
   "metadata": {},
   "outputs": [],
   "source": [
    "file_year = 2013"
   ]
  },
  {
   "cell_type": "code",
   "execution_count": 32,
   "id": "7d885eda-0a0a-4b73-a4d3-54cea0107476",
   "metadata": {
    "scrolled": true
   },
   "outputs": [],
   "source": [
    "chl_values_13 = remove_nans(chl_values, chl_date_array, file_year)\n",
    "chl_dates_13 = chl_date_array\n",
    "\n",
    "# double check arrays look correct\n",
    "\n",
    "# print(chl_values_02)\n",
    "# print(chlor_dates_02)"
   ]
  },
  {
   "cell_type": "markdown",
   "id": "bb0def3a-24de-45a4-8035-06c48e9e7bc7",
   "metadata": {},
   "source": [
    "#### 2014"
   ]
  },
  {
   "cell_type": "code",
   "execution_count": null,
   "id": "bcc1ddb7-4bd2-458b-96b4-1060cf5b081d",
   "metadata": {},
   "outputs": [],
   "source": [
    "file_year = 2014"
   ]
  },
  {
   "cell_type": "code",
   "execution_count": 32,
   "id": "3929ceda-0ece-47ea-afe0-4ebf3225689c",
   "metadata": {
    "scrolled": true
   },
   "outputs": [],
   "source": [
    "chl_values_14 = remove_nans(chl_values, chl_date_array, file_year)\n",
    "chl_dates_14 = chl_date_array\n",
    "\n",
    "# double check arrays look correct\n",
    "\n",
    "# print(chl_values_02)\n",
    "# print(chlor_dates_02)"
   ]
  },
  {
   "cell_type": "markdown",
   "id": "63ce10b0-cf91-4d0d-ac3c-3bcc3e54e377",
   "metadata": {},
   "source": [
    "#### 2015"
   ]
  },
  {
   "cell_type": "code",
   "execution_count": null,
   "id": "7dba6a9e-63a1-4745-8d4c-d39a020e7c13",
   "metadata": {},
   "outputs": [],
   "source": [
    "file_year = 2015"
   ]
  },
  {
   "cell_type": "code",
   "execution_count": 32,
   "id": "0bb1c6d0-7522-4329-8431-f61ea5772cda",
   "metadata": {
    "scrolled": true
   },
   "outputs": [],
   "source": [
    "chl_values_15 = remove_nans(chl_values, chl_date_array, file_year)\n",
    "chl_dates_15 = chl_date_array\n",
    "\n",
    "# double check arrays look correct\n",
    "\n",
    "# print(chl_values_02)\n",
    "# print(chlor_dates_02)"
   ]
  },
  {
   "cell_type": "code",
   "execution_count": null,
   "id": "682503f6-10ff-4703-ade5-ce59a8e18a07",
   "metadata": {},
   "outputs": [],
   "source": [
    "# combine all years of data into two arrays\n",
    "# one for values and one for dates\n",
    "\n",
    "# values\n",
    "\n",
    "chl_all_values = np.concatenate((chl_values_02,chl_values_03,chl_values_04,\n",
    "                                 chl_values_05,chl_values_06, chl_values_07,\n",
    "                                 chl_values_08,chl_values_09,chl_values_10,\n",
    "                                 chl_values_11,chl_values_12,chl_values_13,\n",
    "                                 chl_values_14,chl_values_15))\n",
    "\n",
    "# dates\n",
    "\n",
    "chl_all_dates = np.concatenate((chl_dates_02,chl_dates_03,chl_dates_04,\n",
    "                                 chl_dates_05,chl_dates_06,chl_dates_07,\n",
    "                                 chl_dates_08,chl_dates_09,chl_dates_10,\n",
    "                                 chl_dates_11,chl_dates_12,chl_dates_13,\n",
    "                                 chl_dates_14,chl_dates_15))\n",
    "# make the date arrays into strings to save into csv\n",
    "# might not need bc 'fmt='%s'' might alleviate need to make them strings\n",
    "chl_date_strings = chl_all_dates.astype(str)\n",
    "chl_date_strings"
   ]
  },
  {
   "cell_type": "markdown",
   "id": "97f52467-d93d-491a-bec0-1b55890cd558",
   "metadata": {},
   "source": [
    "#### Save the value and date arrays into csv files"
   ]
  },
  {
   "cell_type": "code",
   "execution_count": null,
   "id": "9d4abfc1-73e0-42d6-894b-ed11b62e322a",
   "metadata": {},
   "outputs": [],
   "source": [
    "# values\n",
    "output_file = '/Volumes/TOSHIBAEXT/Thesis_data/Chlor-a_csvs/Chlor_values_all.csv'\n",
    "np.savetxt(output_file, chl_all_values, delimiter=\",\")"
   ]
  },
  {
   "cell_type": "code",
   "execution_count": null,
   "id": "770a5b1a-7d5a-4c39-a233-f01ef15c9849",
   "metadata": {},
   "outputs": [],
   "source": [
    "# dates\n",
    "output_file = '/Volumes/TOSHIBAEXT/Thesis_data/Chlor-a_csvs/Chlor_dates_all.csv'\n",
    "np.savetxt(output_file, chl_date_strings, delimiter=\",\", fmt='%s')"
   ]
  },
  {
   "cell_type": "markdown",
   "id": "81448905-87a0-43f6-bdad-22b47b0989bf",
   "metadata": {},
   "source": [
    "Combine the two arrays into one Pandas DataFrame"
   ]
  },
  {
   "cell_type": "code",
   "execution_count": null,
   "id": "1196776c-0153-48a8-b6aa-ba34df3c50b3",
   "metadata": {},
   "outputs": [],
   "source": [
    "values_and_dates = {'Sample dates':chl_all_dates,'Chlorophyll values':chl_all_values}\n",
    "chl_df = pd.DataFrame(values_and_dates)\n",
    "chl_df"
   ]
  },
  {
   "cell_type": "markdown",
   "id": "5e75b296-69aa-4e9d-a127-0a52d1bb38ab",
   "metadata": {},
   "source": [
    "Save the DataFrame into a csv file"
   ]
  },
  {
   "cell_type": "code",
   "execution_count": null,
   "id": "6300ebc5-42ae-4cb2-b403-bc5e1ce73098",
   "metadata": {},
   "outputs": [],
   "source": [
    "output_file = '/Volumes/TOSHIBAEXT/Thesis_data/Chlor-a_csvs/Chl_data.csv'\n",
    "np.savetxt(output_file, chl_df, delimiter=\",\",fmt='%s')"
   ]
  }
 ],
 "metadata": {
  "kernelspec": {
   "display_name": "Python 3 (ipykernel)",
   "language": "python",
   "name": "python3"
  },
  "language_info": {
   "codemirror_mode": {
    "name": "ipython",
    "version": 3
   },
   "file_extension": ".py",
   "mimetype": "text/x-python",
   "name": "python",
   "nbconvert_exporter": "python",
   "pygments_lexer": "ipython3",
   "version": "3.11.7"
  }
 },
 "nbformat": 4,
 "nbformat_minor": 5
}
