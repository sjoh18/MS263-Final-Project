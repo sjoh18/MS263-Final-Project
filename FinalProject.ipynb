{
 "cells": [
  {
   "cell_type": "markdown",
   "id": "0081ea74-f40a-438e-9c5a-b856cf01e4e5",
   "metadata": {},
   "source": [
    "# New Final Porject notebook - Upwelling index (BEUTI)"
   ]
  },
  {
   "cell_type": "markdown",
   "id": "bfea5204-e1a5-449d-8962-e8e145405738",
   "metadata": {},
   "source": [
    "## Jelly data"
   ]
  },
  {
   "cell_type": "code",
   "execution_count": 1,
   "id": "c21f72a2-cf96-44d0-b5f4-61027f3d02db",
   "metadata": {},
   "outputs": [
    {
     "name": "stderr",
     "output_type": "stream",
     "text": [
      "/var/folders/9q/f1tj90w176qgctk31mz60mcw0000gn/T/ipykernel_2473/1854181525.py:3: DeprecationWarning: \n",
      "Pyarrow will become a required dependency of pandas in the next major release of pandas (pandas 3.0),\n",
      "(to allow more performant data types, such as the Arrow string type, and better interoperability with other libraries)\n",
      "but was not found to be installed on your system.\n",
      "If this would cause problems for you,\n",
      "please provide us feedback at https://github.com/pandas-dev/pandas/issues/54466\n",
      "        \n",
      "  import pandas as pd\n"
     ]
    }
   ],
   "source": [
    "import numpy as np\n",
    "import matplotlib.pyplot as plt\n",
    "import pandas as pd\n",
    "import pingouin as pg\n",
    "# import cmocean.cm as cmo\n",
    "# from scipy.interpolate import griddata\n",
    "# import glidertools as gt\n",
    "from scipy import stats\n",
    "from SJ_tools import final_proj_functions as fpf"
   ]
  },
  {
   "cell_type": "markdown",
   "id": "621aa892-b211-4d4e-a910-8b5c4bd8b8fc",
   "metadata": {},
   "source": [
    "Read in the jellyfish abundance data"
   ]
  },
  {
   "cell_type": "code",
   "execution_count": 2,
   "id": "62161c9c-5999-4239-b84c-874e536814bb",
   "metadata": {},
   "outputs": [],
   "source": [
    "file_path = '/Users/sarah/Documents/MLML/Current_classes/MS263-Data_Analysis/Final_project/data/MS263 jelly data.csv'\n",
    "jellydf = pd.read_csv(file_path,header=1)"
   ]
  },
  {
   "cell_type": "code",
   "execution_count": 3,
   "id": "1575c1f9-de15-4cf2-97fa-0ef513d6d992",
   "metadata": {
    "scrolled": true
   },
   "outputs": [
    {
     "data": {
      "text/html": [
       "<div>\n",
       "<style scoped>\n",
       "    .dataframe tbody tr th:only-of-type {\n",
       "        vertical-align: middle;\n",
       "    }\n",
       "\n",
       "    .dataframe tbody tr th {\n",
       "        vertical-align: top;\n",
       "    }\n",
       "\n",
       "    .dataframe thead th {\n",
       "        text-align: right;\n",
       "    }\n",
       "</style>\n",
       "<table border=\"1\" class=\"dataframe\">\n",
       "  <thead>\n",
       "    <tr style=\"text-align: right;\">\n",
       "      <th></th>\n",
       "      <th>year</th>\n",
       "      <th>genus</th>\n",
       "      <th>region</th>\n",
       "      <th>abundance</th>\n",
       "    </tr>\n",
       "  </thead>\n",
       "  <tbody>\n",
       "    <tr>\n",
       "      <th>0</th>\n",
       "      <td>1990</td>\n",
       "      <td>Chrysaora CA</td>\n",
       "      <td>central CA</td>\n",
       "      <td>0.247798</td>\n",
       "    </tr>\n",
       "    <tr>\n",
       "      <th>1</th>\n",
       "      <td>1991</td>\n",
       "      <td>Chrysaora CA</td>\n",
       "      <td>central CA</td>\n",
       "      <td>0.282914</td>\n",
       "    </tr>\n",
       "    <tr>\n",
       "      <th>2</th>\n",
       "      <td>1992</td>\n",
       "      <td>Chrysaora CA</td>\n",
       "      <td>central CA</td>\n",
       "      <td>1.382158</td>\n",
       "    </tr>\n",
       "    <tr>\n",
       "      <th>3</th>\n",
       "      <td>1993</td>\n",
       "      <td>Chrysaora CA</td>\n",
       "      <td>central CA</td>\n",
       "      <td>0.531131</td>\n",
       "    </tr>\n",
       "    <tr>\n",
       "      <th>4</th>\n",
       "      <td>1994</td>\n",
       "      <td>Chrysaora CA</td>\n",
       "      <td>central CA</td>\n",
       "      <td>0.468061</td>\n",
       "    </tr>\n",
       "    <tr>\n",
       "      <th>...</th>\n",
       "      <td>...</td>\n",
       "      <td>...</td>\n",
       "      <td>...</td>\n",
       "      <td>...</td>\n",
       "    </tr>\n",
       "    <tr>\n",
       "      <th>83</th>\n",
       "      <td>2012</td>\n",
       "      <td>Chrysaora PNW</td>\n",
       "      <td>PNW</td>\n",
       "      <td>7.425420</td>\n",
       "    </tr>\n",
       "    <tr>\n",
       "      <th>84</th>\n",
       "      <td>2013</td>\n",
       "      <td>Chrysaora PNW</td>\n",
       "      <td>PNW</td>\n",
       "      <td>8.488680</td>\n",
       "    </tr>\n",
       "    <tr>\n",
       "      <th>85</th>\n",
       "      <td>2014</td>\n",
       "      <td>Chrysaora PNW</td>\n",
       "      <td>PNW</td>\n",
       "      <td>7.848780</td>\n",
       "    </tr>\n",
       "    <tr>\n",
       "      <th>86</th>\n",
       "      <td>2015</td>\n",
       "      <td>Chrysaora PNW</td>\n",
       "      <td>PNW</td>\n",
       "      <td>0.266031</td>\n",
       "    </tr>\n",
       "    <tr>\n",
       "      <th>87</th>\n",
       "      <td>2016</td>\n",
       "      <td>Chrysaora PNW</td>\n",
       "      <td>PNW</td>\n",
       "      <td>2.532773</td>\n",
       "    </tr>\n",
       "  </tbody>\n",
       "</table>\n",
       "<p>88 rows × 4 columns</p>\n",
       "</div>"
      ],
      "text/plain": [
       "    year          genus      region  abundance\n",
       "0   1990   Chrysaora CA  central CA   0.247798\n",
       "1   1991   Chrysaora CA  central CA   0.282914\n",
       "2   1992   Chrysaora CA  central CA   1.382158\n",
       "3   1993   Chrysaora CA  central CA   0.531131\n",
       "4   1994   Chrysaora CA  central CA   0.468061\n",
       "..   ...            ...         ...        ...\n",
       "83  2012  Chrysaora PNW         PNW   7.425420\n",
       "84  2013  Chrysaora PNW         PNW   8.488680\n",
       "85  2014  Chrysaora PNW         PNW   7.848780\n",
       "86  2015  Chrysaora PNW         PNW   0.266031\n",
       "87  2016  Chrysaora PNW         PNW   2.532773\n",
       "\n",
       "[88 rows x 4 columns]"
      ]
     },
     "execution_count": 3,
     "metadata": {},
     "output_type": "execute_result"
    }
   ],
   "source": [
    "jellydf"
   ]
  },
  {
   "cell_type": "code",
   "execution_count": 4,
   "id": "16661471-50eb-490c-9def-56e42fd08b6c",
   "metadata": {},
   "outputs": [],
   "source": [
    "# subset the data\n",
    "chrysaora_ca = jellydf[(jellydf['genus'] == 'Chrysaora CA')& (jellydf['region'] == 'central CA')]\n",
    "chrysaora_pnw = jellydf[(jellydf['genus'] == 'Chrysaora PNW') & (jellydf['region'] == 'PNW')]\n",
    "aurelia = jellydf[(jellydf['genus'] == 'Aurelia')]\n",
    "aequorea = jellydf[(jellydf['genus'] == 'Aequorea')]"
   ]
  },
  {
   "cell_type": "markdown",
   "id": "d31adde7-13ff-4e9c-891b-c692838ea549",
   "metadata": {},
   "source": [
    "Calculate time series trend lines"
   ]
  },
  {
   "cell_type": "code",
   "execution_count": 5,
   "id": "cf8c08d5-eb4f-43f4-8248-cab627d6bf6e",
   "metadata": {},
   "outputs": [
    {
     "name": "stdout",
     "output_type": "stream",
     "text": [
      "-0.005468419531624213\n"
     ]
    }
   ],
   "source": [
    "#chrysaora_ca trend line\n",
    "p = np.polyfit(chrysaora_ca['year'], chrysaora_ca['abundance'], 1)\n",
    "slope = p[0]\n",
    "intercept = p[1]\n",
    "chry_bestfit = slope * chrysaora_ca['year'] + intercept\n",
    "# chry_bestfit\n",
    "print(slope)"
   ]
  },
  {
   "cell_type": "code",
   "execution_count": 6,
   "id": "f62cbe99-1a9d-411b-9653-da99602e8c18",
   "metadata": {},
   "outputs": [
    {
     "name": "stdout",
     "output_type": "stream",
     "text": [
      "-0.16349746054694259\n"
     ]
    }
   ],
   "source": [
    "#chrysaora_pnw trend line\n",
    "p = np.polyfit(chrysaora_pnw['year'], chrysaora_pnw['abundance'], 1)\n",
    "chry_pnw_slope = p[0]\n",
    "chry_pnw_intercept = p[1]\n",
    "chry_pnw_bestfit = chry_pnw_slope * chrysaora_pnw['year'] + chry_pnw_intercept\n",
    "# chry_bestfit\n",
    "print(chry_pnw_slope)"
   ]
  },
  {
   "cell_type": "code",
   "execution_count": 7,
   "id": "d0731613-d7d4-4f0d-a84b-1331509758f3",
   "metadata": {},
   "outputs": [
    {
     "name": "stdout",
     "output_type": "stream",
     "text": [
      "-0.023060338463370522\n"
     ]
    }
   ],
   "source": [
    "# aequorea trend line\n",
    "aq_p = np.polyfit(aequorea['year'], aequorea['abundance'], 1)\n",
    "aq_slope = aq_p[0]\n",
    "aq_intercept = aq_p[1]\n",
    "aequo_bestfit = aq_slope * aequorea['year'] + aq_intercept\n",
    "print(aq_slope)"
   ]
  },
  {
   "cell_type": "code",
   "execution_count": 8,
   "id": "6669c1e5-2a24-41ad-9e39-e724748f2cbd",
   "metadata": {},
   "outputs": [
    {
     "name": "stdout",
     "output_type": "stream",
     "text": [
      "0.000182606998290419\n"
     ]
    }
   ],
   "source": [
    "# aurelia trend line\n",
    "aur_p = np.polyfit(aurelia['year'], aurelia['abundance'], 1)\n",
    "aur_slope = aur_p[0]\n",
    "aur_intercept = aur_p[1]\n",
    "aurelia_bestfit = aur_slope * aurelia['year'] + aur_intercept\n",
    "print(aur_slope)"
   ]
  },
  {
   "cell_type": "markdown",
   "id": "72b9b419-061d-44b8-9502-f191bba6f5e5",
   "metadata": {},
   "source": [
    "Plot the time series"
   ]
  },
  {
   "cell_type": "code",
   "execution_count": 52,
   "id": "dd69107a-d9ab-43b3-9e95-d38991e43a87",
   "metadata": {},
   "outputs": [
    {
     "data": {
      "image/png": "[encoded data removed]",
      "text/plain": [
       "<Figure size 800x1000 with 4 Axes>"
      ]
     },
     "metadata": {},
     "output_type": "display_data"
    }
   ],
   "source": [
    "fig, axes = plt.subplots(4, 1, figsize=(8, 10))\n",
    "\n",
    "#ca chrysaora\n",
    "axes[0].plot(chrysaora_ca['year'], chrysaora_ca['abundance'], 'yellowgreen', label='Central CA Chrysaora')\n",
    "axes[0].plot(chrysaora_ca['year'], chry_bestfit, 'grey', linestyle='--', label='Slope = -5.5e-3')\n",
    "axes[0].set_xlim([1990, 2016])\n",
    "\n",
    "#aurelia\n",
    "axes[1].plot(aurelia['year'], aurelia['abundance'], label='Aurelia')\n",
    "axes[1].plot(aurelia['year'], aurelia_bestfit, 'grey', linestyle='--', label='Slope = 1.8e-4')\n",
    "axes[1].set_xlim([1990, 2016])\n",
    "\n",
    "# pnw chrysaora\n",
    "axes[2].plot(chrysaora_pnw['year'], chrysaora_pnw['abundance'], 'darkgreen', label='PNW Chrysaora')\n",
    "axes[2].plot(chrysaora_pnw['year'], chry_pnw_bestfit, 'grey', linestyle='--', label='Slope = -1.4e-1')\n",
    "axes[2].set_xlim([1990, 2016])\n",
    "\n",
    "# aequorea\n",
    "axes[3].plot(aequorea['year'], aequorea['abundance'], 'r', label='Aequorea')\n",
    "axes[3].plot(aequorea['year'], aequo_bestfit, 'grey', linestyle='--', label='Slope = -2.3e-2')\n",
    "axes[3].set_xlim([1990, 2016])\n",
    "\n",
    "axes[0].legend(loc='best')\n",
    "axes[1].legend(loc='best')\n",
    "axes[2].legend(loc='best')\n",
    "axes[3].legend(loc='best')\n",
    "\n",
    "axes[0].grid(alpha=0.3)\n",
    "axes[1].grid(alpha=0.3)\n",
    "axes[2].grid(alpha=0.3)\n",
    "axes[3].grid(alpha=0.3)\n",
    "\n",
    "fig.suptitle('Jellyfish Abundance')\n",
    "plt.xlabel('Year')\n",
    "axes[1].set_ylabel('Abundance [CPUE [ln(catch+1)]]')\n",
    "\n",
    "plt.tight_layout()\n",
    "plt.show()"
   ]
  },
  {
   "cell_type": "markdown",
   "id": "21b9a2ed-f6ef-4bc4-bde1-0b62e43a2de3",
   "metadata": {},
   "source": [
    "Calculate relative genus abundance for central CA"
   ]
  },
  {
   "cell_type": "code",
   "execution_count": 10,
   "id": "0592c09d-b0ed-4f31-abb6-e3cc0d6e9b3d",
   "metadata": {},
   "outputs": [],
   "source": [
    "central_ca = jellydf[jellydf['region'] == 'central CA']\n",
    "pnw = jellydf[jellydf['region'] == 'PNW']"
   ]
  },
  {
   "cell_type": "code",
   "execution_count": 11,
   "id": "89e32cf7-b9fb-4f3e-bf72-69397b107b7b",
   "metadata": {},
   "outputs": [],
   "source": [
    "richness = 2\n",
    "N_ca = np.sum(central_ca['abundance']) #total biomass of both genera\n",
    "ni_chry_ca = np.sum(chrysaora_ca['abundance']) #total biomass of target genus\n",
    "ni_aurelia = np.sum(aurelia['abundance'])"
   ]
  },
  {
   "cell_type": "code",
   "execution_count": 12,
   "id": "f47f41b2-53fb-43b0-916b-8e27fbc84a53",
   "metadata": {},
   "outputs": [],
   "source": [
    "chry_relab_ca = (fpf.relative_abundance(richness, N_ca, ni_chry_ca)*100)\n",
    "aurelia_rel_ab = (fpf.relative_abundance(richness, N_ca, ni_aurelia)*100)"
   ]
  },
  {
   "cell_type": "markdown",
   "id": "2716eda8-2120-4307-8697-e8add01a981e",
   "metadata": {},
   "source": [
    "Calulate relative genus abundance for PNW"
   ]
  },
  {
   "cell_type": "code",
   "execution_count": 15,
   "id": "d9b9b18b-ed30-4d5d-8a48-c1bd422e4f32",
   "metadata": {},
   "outputs": [],
   "source": [
    "N_pnw = np.sum(pnw['abundance']) #total biomass of all 3 genera\n",
    "ni_chry_pnw = np.sum(chrysaora_pnw['abundance']) #total biomass of target genus\n",
    "ni_aequo = np.sum(aequorea['abundance'])"
   ]
  },
  {
   "cell_type": "code",
   "execution_count": 16,
   "id": "b6eba3d6-0830-4b93-9bf3-8e4a73443b5e",
   "metadata": {},
   "outputs": [],
   "source": [
    "chry_relab_pnw = (fpf.relative_abundance(richness, N_pnw, ni_chry_pnw)*100)\n",
    "aequo_rel_ab = (fpf.relative_abundance(richness, N_pnw, ni_aequo)*100)"
   ]
  },
  {
   "cell_type": "markdown",
   "id": "cef68152-9cbd-4fad-9c75-3ebe47025b99",
   "metadata": {},
   "source": [
    "Calculate standard error for all genera"
   ]
  },
  {
   "cell_type": "code",
   "execution_count": null,
   "id": "54da283d-6460-4e90-8498-aa6383fb67c7",
   "metadata": {},
   "outputs": [],
   "source": [
    "relative_abundance = [chry_relab_ca, aurelia_rel_ab, chry_relab_pnw, aequo_rel_ab]\n",
    "genera = ['CA Chrysaora', 'Aurelia', 'PNW Chrysaora', 'Aequorea']"
   ]
  },
  {
   "cell_type": "code",
   "execution_count": 43,
   "id": "dbc3a5ea-f6cb-4517-a299-6b38d7925fd2",
   "metadata": {},
   "outputs": [],
   "source": [
    "N_total = len(jellydf['abundance'])\n",
    "mean = np.mean(relative_abundance)\n",
    "std = np.std(relative_abundance)\n",
    "error = std/np.sqrt(N_total)"
   ]
  },
  {
   "cell_type": "code",
   "execution_count": 20,
   "id": "857f152e-116d-4eb2-a380-56b116656537",
   "metadata": {},
   "outputs": [
    {
     "name": "stdout",
     "output_type": "stream",
     "text": [
      "CA Chrysaora abundance is NOT normally distributed\n",
      "Aurelia abundance is NOT normally distributed\n",
      "PNW Chrysaora abundance is NOT normally distributed\n",
      "Aequorea abundance is normally distributed\n",
      "CA Chrysaora var:0.13218589800633943\n",
      "Aurelia var:0.124554273804289\n",
      "PNW Chrysaora var:6.625184653234492\n",
      "Aequorea var:2.787270697668261\n"
     ]
    }
   ],
   "source": [
    "# check for normality and equal variances\n",
    "# normality - use Shapiro-Wilk test\n",
    "tstat_cachry, pvalue_cachry = stats.shapiro(chrysaora_ca['abundance'])\n",
    "tstat_aurelia, pvalue_aurelia = stats.shapiro(aurelia['abundance'])\n",
    "tstat_pnwchry, pvalue_pnwchry = stats.shapiro(chrysaora_pnw['abundance'])\n",
    "tstat_aequo, pvalue_aequo = stats.shapiro(aequorea['abundance'])\n",
    "\n",
    "if pvalue_cachry > 0.05:\n",
    "    print('CA Chrysaora abundance is normally distributed')\n",
    "else:\n",
    "    print('CA Chrysaora abundance is NOT normally distributed')\n",
    "    \n",
    "if pvalue_aurelia > 0.05:\n",
    "    print('Aurelia abundance is normally distributed')\n",
    "else:\n",
    "    print('Aurelia abundance is NOT normally distributed')\n",
    "    \n",
    "if pvalue_pnwchry > 0.05:\n",
    "    print('PNW Chrysaora abundance is normally distributed')\n",
    "else:\n",
    "    print('PNW Chrysaora abundance is NOT normally distributed')\n",
    "    \n",
    "if pvalue_aequo > 0.05:\n",
    "    print('Aequorea abundance is normally distributed')\n",
    "else:\n",
    "    print('Aequorea abundance is NOT normally distributed')\n",
    "\n",
    "# calculate variances\n",
    "var_ca_chry = np.var(chrysaora_ca['abundance'])\n",
    "var_aurelia = np.var(aurelia['abundance'])\n",
    "var_pnw_chry = np.var(chrysaora_pnw['abundance'])\n",
    "var_aequo = np.var(aequorea['abundance'])\n",
    "print('CA Chrysaora var:'+str(var_ca_chry))\n",
    "print('Aurelia var:'+str(var_aurelia))\n",
    "print('PNW Chrysaora var:'+str(var_pnw_chry))\n",
    "print('Aequorea var:'+str(var_aequo))"
   ]
  },
  {
   "cell_type": "code",
   "execution_count": 22,
   "id": "881dd53e-6a0a-496e-9445-b6293d03558b",
   "metadata": {},
   "outputs": [
    {
     "data": {
      "text/plain": [
       "TtestResult(statistic=-17.304051439830847, pvalue=3.88438927165647e-19, df=36.36362449080731)"
      ]
     },
     "execution_count": 22,
     "metadata": {},
     "output_type": "execute_result"
    }
   ],
   "source": [
    "# t test to see if there is a difference in overall jelly abundance between the two regions\n",
    "region_ttest = stats.ttest_ind(central_ca['abundance'], pnw['abundance'], equal_var=False) \n",
    "region_ttest"
   ]
  },
  {
   "cell_type": "markdown",
   "id": "1c058322-fbad-443c-9342-69ce8775f76a",
   "metadata": {},
   "source": [
    "The pvalue is less than alpha with a 95% confidence interval, so we rejct the null hypothesis of no difference between the overall region jelly abundances."
   ]
  },
  {
   "cell_type": "markdown",
   "id": "e750a59d-0ab6-4c3b-8537-f22c0870aab0",
   "metadata": {},
   "source": [
    "None of the abundance data are normally distributed *except* Aequorea, and the variances are unequal. Therefore I will run a Welch ANOVA (robust to deviations from normality and does not assume equal variance, however, it assumes that sample sizes are approximately equal-- in this case, they almost are: N_ca=26 and N_pnw=27)"
   ]
  },
  {
   "cell_type": "code",
   "execution_count": 3,
   "id": "0b8a742a-158a-4f48-b9d1-23b2d7a49dff",
   "metadata": {},
   "outputs": [
    {
     "data": {
      "text/html": [
       "<div>\n",
       "<style scoped>\n",
       "    .dataframe tbody tr th:only-of-type {\n",
       "        vertical-align: middle;\n",
       "    }\n",
       "\n",
       "    .dataframe tbody tr th {\n",
       "        vertical-align: top;\n",
       "    }\n",
       "\n",
       "    .dataframe thead th {\n",
       "        text-align: right;\n",
       "    }\n",
       "</style>\n",
       "<table border=\"1\" class=\"dataframe\">\n",
       "  <thead>\n",
       "    <tr style=\"text-align: right;\">\n",
       "      <th></th>\n",
       "      <th>Source</th>\n",
       "      <th>ddof1</th>\n",
       "      <th>ddof2</th>\n",
       "      <th>F</th>\n",
       "      <th>p-unc</th>\n",
       "      <th>np2</th>\n",
       "    </tr>\n",
       "  </thead>\n",
       "  <tbody>\n",
       "    <tr>\n",
       "      <th>0</th>\n",
       "      <td>genus</td>\n",
       "      <td>3</td>\n",
       "      <td>36.764356</td>\n",
       "      <td>111.305814</td>\n",
       "      <td>1.675027e-18</td>\n",
       "      <td>0.836648</td>\n",
       "    </tr>\n",
       "  </tbody>\n",
       "</table>\n",
       "</div>"
      ],
      "text/plain": [
       "  Source  ddof1      ddof2           F         p-unc       np2\n",
       "0  genus      3  36.764356  111.305814  1.675027e-18  0.836648"
      ]
     },
     "execution_count": 3,
     "metadata": {},
     "output_type": "execute_result"
    }
   ],
   "source": [
    "# anova\n",
    "genus_anova, genus_posthoc = fpf.jelly_anova(jellydf)\n",
    "genus_anova"
   ]
  },
  {
   "cell_type": "markdown",
   "id": "4de04309-005c-4b2d-9757-9362cf52a124",
   "metadata": {},
   "source": [
    "There is a significant difference between abundances of each genus, so I will now run a non-parametric post-hoc test to find where those difference(s) are."
   ]
  },
  {
   "cell_type": "code",
   "execution_count": 4,
   "id": "5bab6338-359c-4af2-a182-cba7460ad409",
   "metadata": {},
   "outputs": [
    {
     "data": {
      "text/html": [
       "<div>\n",
       "<style scoped>\n",
       "    .dataframe tbody tr th:only-of-type {\n",
       "        vertical-align: middle;\n",
       "    }\n",
       "\n",
       "    .dataframe tbody tr th {\n",
       "        vertical-align: top;\n",
       "    }\n",
       "\n",
       "    .dataframe thead th {\n",
       "        text-align: right;\n",
       "    }\n",
       "</style>\n",
       "<table border=\"1\" class=\"dataframe\">\n",
       "  <thead>\n",
       "    <tr style=\"text-align: right;\">\n",
       "      <th></th>\n",
       "      <th>A</th>\n",
       "      <th>B</th>\n",
       "      <th>mean(A)</th>\n",
       "      <th>mean(B)</th>\n",
       "      <th>diff</th>\n",
       "      <th>se</th>\n",
       "      <th>T</th>\n",
       "      <th>p-tukey</th>\n",
       "      <th>hedges</th>\n",
       "    </tr>\n",
       "  </thead>\n",
       "  <tbody>\n",
       "    <tr>\n",
       "      <th>0</th>\n",
       "      <td>Aequorea</td>\n",
       "      <td>Aurelia</td>\n",
       "      <td>6.451978</td>\n",
       "      <td>0.224583</td>\n",
       "      <td>6.227395</td>\n",
       "      <td>0.443959</td>\n",
       "      <td>14.026962</td>\n",
       "      <td>2.153833e-14</td>\n",
       "      <td>5.423130</td>\n",
       "    </tr>\n",
       "    <tr>\n",
       "      <th>1</th>\n",
       "      <td>Aequorea</td>\n",
       "      <td>Chrysaora CA</td>\n",
       "      <td>6.451978</td>\n",
       "      <td>0.408672</td>\n",
       "      <td>6.043306</td>\n",
       "      <td>0.443959</td>\n",
       "      <td>13.612310</td>\n",
       "      <td>2.153833e-14</td>\n",
       "      <td>5.253068</td>\n",
       "    </tr>\n",
       "    <tr>\n",
       "      <th>2</th>\n",
       "      <td>Aequorea</td>\n",
       "      <td>Chrysaora PNW</td>\n",
       "      <td>6.451978</td>\n",
       "      <td>7.167618</td>\n",
       "      <td>-0.715640</td>\n",
       "      <td>0.482634</td>\n",
       "      <td>-1.482780</td>\n",
       "      <td>4.523729e-01</td>\n",
       "      <td>-0.313463</td>\n",
       "    </tr>\n",
       "    <tr>\n",
       "      <th>3</th>\n",
       "      <td>Aurelia</td>\n",
       "      <td>Chrysaora CA</td>\n",
       "      <td>0.224583</td>\n",
       "      <td>0.408672</td>\n",
       "      <td>-0.184089</td>\n",
       "      <td>0.401576</td>\n",
       "      <td>-0.458416</td>\n",
       "      <td>9.678016e-01</td>\n",
       "      <td>-0.496229</td>\n",
       "    </tr>\n",
       "    <tr>\n",
       "      <th>4</th>\n",
       "      <td>Aurelia</td>\n",
       "      <td>Chrysaora PNW</td>\n",
       "      <td>0.224583</td>\n",
       "      <td>7.167618</td>\n",
       "      <td>-6.943035</td>\n",
       "      <td>0.443959</td>\n",
       "      <td>-15.638915</td>\n",
       "      <td>2.153833e-14</td>\n",
       "      <td>-3.992528</td>\n",
       "    </tr>\n",
       "    <tr>\n",
       "      <th>5</th>\n",
       "      <td>Chrysaora CA</td>\n",
       "      <td>Chrysaora PNW</td>\n",
       "      <td>0.408672</td>\n",
       "      <td>7.167618</td>\n",
       "      <td>-6.758946</td>\n",
       "      <td>0.443959</td>\n",
       "      <td>-15.224262</td>\n",
       "      <td>2.153833e-14</td>\n",
       "      <td>-3.883525</td>\n",
       "    </tr>\n",
       "  </tbody>\n",
       "</table>\n",
       "</div>"
      ],
      "text/plain": [
       "              A              B   mean(A)   mean(B)      diff        se  \\\n",
       "0      Aequorea        Aurelia  6.451978  0.224583  6.227395  0.443959   \n",
       "1      Aequorea   Chrysaora CA  6.451978  0.408672  6.043306  0.443959   \n",
       "2      Aequorea  Chrysaora PNW  6.451978  7.167618 -0.715640  0.482634   \n",
       "3       Aurelia   Chrysaora CA  0.224583  0.408672 -0.184089  0.401576   \n",
       "4       Aurelia  Chrysaora PNW  0.224583  7.167618 -6.943035  0.443959   \n",
       "5  Chrysaora CA  Chrysaora PNW  0.408672  7.167618 -6.758946  0.443959   \n",
       "\n",
       "           T       p-tukey    hedges  \n",
       "0  14.026962  2.153833e-14  5.423130  \n",
       "1  13.612310  2.153833e-14  5.253068  \n",
       "2  -1.482780  4.523729e-01 -0.313463  \n",
       "3  -0.458416  9.678016e-01 -0.496229  \n",
       "4 -15.638915  2.153833e-14 -3.992528  \n",
       "5 -15.224262  2.153833e-14 -3.883525  "
      ]
     },
     "execution_count": 4,
     "metadata": {},
     "output_type": "execute_result"
    }
   ],
   "source": [
    "genus_posthoc"
   ]
  },
  {
   "cell_type": "markdown",
   "id": "7bc7f82e-78f0-414f-9994-ffae61e5e0d2",
   "metadata": {},
   "source": [
    "Plot relative genus abundance"
   ]
  },
  {
   "cell_type": "code",
   "execution_count": 51,
   "id": "2c585669-a7a4-4f53-9fc6-cc82d4efc8f4",
   "metadata": {},
   "outputs": [
    {
     "data": {
      "image/png": "[encoded data removed]",
      "text/plain": [
       "<Figure size 1000x600 with 1 Axes>"
      ]
     },
     "metadata": {},
     "output_type": "display_data"
    }
   ],
   "source": [
    "plt.figure(figsize=(10,6))\n",
    "\n",
    "plt.bar(genera, relative_abundance, color=['chocolate', 'slategray', 'sandybrown', 'cadetblue'])\n",
    "plt.errorbar(genera, relative_abundance, yerr=error, fmt='none', color='k', label='Standard error, 95% CI')\n",
    "plt.xlabel('Genus')\n",
    "plt.ylabel('Relative abundance [%]')\n",
    "plt.grid(linewidth=0.5, alpha=0.3)\n",
    "plt.legend(loc='best')\n",
    "plt.show()"
   ]
  },
  {
   "cell_type": "markdown",
   "id": "e8557f61-6ad9-44af-8496-4d5754c210d7",
   "metadata": {},
   "source": [
    "**how do i plot an anova????**"
   ]
  },
  {
   "cell_type": "code",
   "execution_count": 19,
   "id": "11f9cf90-3adb-4359-9fc9-22ce00031975",
   "metadata": {},
   "outputs": [
    {
     "data": {
      "text/html": [
       "<div>\n",
       "<style scoped>\n",
       "    .dataframe tbody tr th:only-of-type {\n",
       "        vertical-align: middle;\n",
       "    }\n",
       "\n",
       "    .dataframe tbody tr th {\n",
       "        vertical-align: top;\n",
       "    }\n",
       "\n",
       "    .dataframe thead th {\n",
       "        text-align: right;\n",
       "    }\n",
       "</style>\n",
       "<table border=\"1\" class=\"dataframe\">\n",
       "  <thead>\n",
       "    <tr style=\"text-align: right;\">\n",
       "      <th></th>\n",
       "      <th>year</th>\n",
       "      <th>month</th>\n",
       "      <th>31N</th>\n",
       "      <th>32N</th>\n",
       "      <th>33N</th>\n",
       "      <th>34N</th>\n",
       "      <th>35N</th>\n",
       "      <th>36N</th>\n",
       "      <th>37N</th>\n",
       "      <th>38N</th>\n",
       "      <th>39N</th>\n",
       "      <th>40N</th>\n",
       "      <th>41N</th>\n",
       "      <th>42N</th>\n",
       "      <th>43N</th>\n",
       "      <th>44N</th>\n",
       "      <th>45N</th>\n",
       "      <th>46N</th>\n",
       "      <th>47N</th>\n",
       "    </tr>\n",
       "  </thead>\n",
       "  <tbody>\n",
       "    <tr>\n",
       "      <th>0</th>\n",
       "      <td>1988</td>\n",
       "      <td>1</td>\n",
       "      <td>0.304</td>\n",
       "      <td>0.892</td>\n",
       "      <td>0.614</td>\n",
       "      <td>1.411</td>\n",
       "      <td>3.136</td>\n",
       "      <td>4.947</td>\n",
       "      <td>1.517</td>\n",
       "      <td>0.388</td>\n",
       "      <td>2.160</td>\n",
       "      <td>1.934</td>\n",
       "      <td>-1.992</td>\n",
       "      <td>-2.474</td>\n",
       "      <td>-1.134</td>\n",
       "      <td>-0.892</td>\n",
       "      <td>-0.442</td>\n",
       "      <td>0.460</td>\n",
       "      <td>-4.750</td>\n",
       "    </tr>\n",
       "    <tr>\n",
       "      <th>1</th>\n",
       "      <td>1988</td>\n",
       "      <td>2</td>\n",
       "      <td>0.047</td>\n",
       "      <td>0.453</td>\n",
       "      <td>0.596</td>\n",
       "      <td>0.828</td>\n",
       "      <td>1.358</td>\n",
       "      <td>5.663</td>\n",
       "      <td>3.261</td>\n",
       "      <td>5.043</td>\n",
       "      <td>9.580</td>\n",
       "      <td>10.786</td>\n",
       "      <td>6.864</td>\n",
       "      <td>9.469</td>\n",
       "      <td>6.438</td>\n",
       "      <td>1.393</td>\n",
       "      <td>3.258</td>\n",
       "      <td>1.068</td>\n",
       "      <td>0.225</td>\n",
       "    </tr>\n",
       "    <tr>\n",
       "      <th>2</th>\n",
       "      <td>1988</td>\n",
       "      <td>3</td>\n",
       "      <td>0.882</td>\n",
       "      <td>0.633</td>\n",
       "      <td>0.579</td>\n",
       "      <td>3.321</td>\n",
       "      <td>9.998</td>\n",
       "      <td>11.624</td>\n",
       "      <td>16.402</td>\n",
       "      <td>12.766</td>\n",
       "      <td>25.179</td>\n",
       "      <td>19.528</td>\n",
       "      <td>12.638</td>\n",
       "      <td>10.103</td>\n",
       "      <td>8.930</td>\n",
       "      <td>-1.720</td>\n",
       "      <td>0.762</td>\n",
       "      <td>-0.248</td>\n",
       "      <td>0.658</td>\n",
       "    </tr>\n",
       "    <tr>\n",
       "      <th>3</th>\n",
       "      <td>1988</td>\n",
       "      <td>4</td>\n",
       "      <td>0.635</td>\n",
       "      <td>0.189</td>\n",
       "      <td>0.170</td>\n",
       "      <td>1.346</td>\n",
       "      <td>4.503</td>\n",
       "      <td>3.317</td>\n",
       "      <td>4.471</td>\n",
       "      <td>-1.628</td>\n",
       "      <td>10.962</td>\n",
       "      <td>6.143</td>\n",
       "      <td>3.655</td>\n",
       "      <td>8.970</td>\n",
       "      <td>4.704</td>\n",
       "      <td>-1.430</td>\n",
       "      <td>0.902</td>\n",
       "      <td>-0.327</td>\n",
       "      <td>-1.255</td>\n",
       "    </tr>\n",
       "    <tr>\n",
       "      <th>4</th>\n",
       "      <td>1988</td>\n",
       "      <td>5</td>\n",
       "      <td>1.636</td>\n",
       "      <td>0.754</td>\n",
       "      <td>0.735</td>\n",
       "      <td>5.891</td>\n",
       "      <td>15.041</td>\n",
       "      <td>13.531</td>\n",
       "      <td>15.532</td>\n",
       "      <td>11.123</td>\n",
       "      <td>19.798</td>\n",
       "      <td>12.773</td>\n",
       "      <td>4.003</td>\n",
       "      <td>4.624</td>\n",
       "      <td>2.390</td>\n",
       "      <td>-0.935</td>\n",
       "      <td>0.068</td>\n",
       "      <td>0.056</td>\n",
       "      <td>-0.214</td>\n",
       "    </tr>\n",
       "    <tr>\n",
       "      <th>...</th>\n",
       "      <td>...</td>\n",
       "      <td>...</td>\n",
       "      <td>...</td>\n",
       "      <td>...</td>\n",
       "      <td>...</td>\n",
       "      <td>...</td>\n",
       "      <td>...</td>\n",
       "      <td>...</td>\n",
       "      <td>...</td>\n",
       "      <td>...</td>\n",
       "      <td>...</td>\n",
       "      <td>...</td>\n",
       "      <td>...</td>\n",
       "      <td>...</td>\n",
       "      <td>...</td>\n",
       "      <td>...</td>\n",
       "      <td>...</td>\n",
       "      <td>...</td>\n",
       "      <td>...</td>\n",
       "    </tr>\n",
       "    <tr>\n",
       "      <th>431</th>\n",
       "      <td>2023</td>\n",
       "      <td>12</td>\n",
       "      <td>0.171</td>\n",
       "      <td>0.091</td>\n",
       "      <td>0.009</td>\n",
       "      <td>0.144</td>\n",
       "      <td>0.548</td>\n",
       "      <td>0.742</td>\n",
       "      <td>0.301</td>\n",
       "      <td>-0.513</td>\n",
       "      <td>-1.088</td>\n",
       "      <td>-1.687</td>\n",
       "      <td>-3.143</td>\n",
       "      <td>-3.465</td>\n",
       "      <td>-4.050</td>\n",
       "      <td>-1.734</td>\n",
       "      <td>-0.973</td>\n",
       "      <td>-1.331</td>\n",
       "      <td>-0.751</td>\n",
       "    </tr>\n",
       "    <tr>\n",
       "      <th>432</th>\n",
       "      <td>2024</td>\n",
       "      <td>1</td>\n",
       "      <td>0.862</td>\n",
       "      <td>0.486</td>\n",
       "      <td>0.309</td>\n",
       "      <td>0.800</td>\n",
       "      <td>1.222</td>\n",
       "      <td>1.073</td>\n",
       "      <td>-0.133</td>\n",
       "      <td>0.249</td>\n",
       "      <td>-1.757</td>\n",
       "      <td>-2.027</td>\n",
       "      <td>-5.245</td>\n",
       "      <td>-3.506</td>\n",
       "      <td>-5.993</td>\n",
       "      <td>-2.756</td>\n",
       "      <td>-2.231</td>\n",
       "      <td>-3.749</td>\n",
       "      <td>-0.036</td>\n",
       "    </tr>\n",
       "    <tr>\n",
       "      <th>433</th>\n",
       "      <td>2024</td>\n",
       "      <td>2</td>\n",
       "      <td>1.044</td>\n",
       "      <td>0.440</td>\n",
       "      <td>0.272</td>\n",
       "      <td>0.350</td>\n",
       "      <td>0.180</td>\n",
       "      <td>0.365</td>\n",
       "      <td>-0.402</td>\n",
       "      <td>0.319</td>\n",
       "      <td>-0.353</td>\n",
       "      <td>-0.782</td>\n",
       "      <td>-2.398</td>\n",
       "      <td>-3.146</td>\n",
       "      <td>-3.868</td>\n",
       "      <td>-3.327</td>\n",
       "      <td>-0.791</td>\n",
       "      <td>-2.152</td>\n",
       "      <td>-0.493</td>\n",
       "    </tr>\n",
       "    <tr>\n",
       "      <th>434</th>\n",
       "      <td>2024</td>\n",
       "      <td>3</td>\n",
       "      <td>2.649</td>\n",
       "      <td>1.007</td>\n",
       "      <td>1.027</td>\n",
       "      <td>2.424</td>\n",
       "      <td>3.214</td>\n",
       "      <td>3.081</td>\n",
       "      <td>1.466</td>\n",
       "      <td>1.193</td>\n",
       "      <td>2.148</td>\n",
       "      <td>1.397</td>\n",
       "      <td>-0.268</td>\n",
       "      <td>-0.279</td>\n",
       "      <td>-1.201</td>\n",
       "      <td>-1.326</td>\n",
       "      <td>-1.758</td>\n",
       "      <td>-1.036</td>\n",
       "      <td>-0.120</td>\n",
       "    </tr>\n",
       "    <tr>\n",
       "      <th>435</th>\n",
       "      <td>2024</td>\n",
       "      <td>4</td>\n",
       "      <td>3.822</td>\n",
       "      <td>1.496</td>\n",
       "      <td>1.791</td>\n",
       "      <td>6.664</td>\n",
       "      <td>11.233</td>\n",
       "      <td>11.847</td>\n",
       "      <td>9.559</td>\n",
       "      <td>12.312</td>\n",
       "      <td>15.411</td>\n",
       "      <td>14.410</td>\n",
       "      <td>10.997</td>\n",
       "      <td>11.662</td>\n",
       "      <td>6.681</td>\n",
       "      <td>3.292</td>\n",
       "      <td>1.898</td>\n",
       "      <td>1.381</td>\n",
       "      <td>1.559</td>\n",
       "    </tr>\n",
       "  </tbody>\n",
       "</table>\n",
       "<p>436 rows × 19 columns</p>\n",
       "</div>"
      ],
      "text/plain": [
       "     year  month    31N    32N    33N    34N     35N     36N     37N     38N  \\\n",
       "0    1988      1  0.304  0.892  0.614  1.411   3.136   4.947   1.517   0.388   \n",
       "1    1988      2  0.047  0.453  0.596  0.828   1.358   5.663   3.261   5.043   \n",
       "2    1988      3  0.882  0.633  0.579  3.321   9.998  11.624  16.402  12.766   \n",
       "3    1988      4  0.635  0.189  0.170  1.346   4.503   3.317   4.471  -1.628   \n",
       "4    1988      5  1.636  0.754  0.735  5.891  15.041  13.531  15.532  11.123   \n",
       "..    ...    ...    ...    ...    ...    ...     ...     ...     ...     ...   \n",
       "431  2023     12  0.171  0.091  0.009  0.144   0.548   0.742   0.301  -0.513   \n",
       "432  2024      1  0.862  0.486  0.309  0.800   1.222   1.073  -0.133   0.249   \n",
       "433  2024      2  1.044  0.440  0.272  0.350   0.180   0.365  -0.402   0.319   \n",
       "434  2024      3  2.649  1.007  1.027  2.424   3.214   3.081   1.466   1.193   \n",
       "435  2024      4  3.822  1.496  1.791  6.664  11.233  11.847   9.559  12.312   \n",
       "\n",
       "        39N     40N     41N     42N    43N    44N    45N    46N    47N  \n",
       "0     2.160   1.934  -1.992  -2.474 -1.134 -0.892 -0.442  0.460 -4.750  \n",
       "1     9.580  10.786   6.864   9.469  6.438  1.393  3.258  1.068  0.225  \n",
       "2    25.179  19.528  12.638  10.103  8.930 -1.720  0.762 -0.248  0.658  \n",
       "3    10.962   6.143   3.655   8.970  4.704 -1.430  0.902 -0.327 -1.255  \n",
       "4    19.798  12.773   4.003   4.624  2.390 -0.935  0.068  0.056 -0.214  \n",
       "..      ...     ...     ...     ...    ...    ...    ...    ...    ...  \n",
       "431  -1.088  -1.687  -3.143  -3.465 -4.050 -1.734 -0.973 -1.331 -0.751  \n",
       "432  -1.757  -2.027  -5.245  -3.506 -5.993 -2.756 -2.231 -3.749 -0.036  \n",
       "433  -0.353  -0.782  -2.398  -3.146 -3.868 -3.327 -0.791 -2.152 -0.493  \n",
       "434   2.148   1.397  -0.268  -0.279 -1.201 -1.326 -1.758 -1.036 -0.120  \n",
       "435  15.411  14.410  10.997  11.662  6.681  3.292  1.898  1.381  1.559  \n",
       "\n",
       "[436 rows x 19 columns]"
      ]
     },
     "execution_count": 19,
     "metadata": {},
     "output_type": "execute_result"
    }
   ],
   "source": [
    "file_path2 = '/Users/sarah/Documents/MLML/Current_classes/MS263-Data_Analysis/Final_project/data/BEUTI_monthly.csv'\n",
    "beutidf = pd.read_csv(file_path2,header=0)\n",
    "beutidf"
   ]
  },
  {
   "cell_type": "code",
   "execution_count": 16,
   "id": "807e1365-dee5-406a-82e8-424203691a68",
   "metadata": {},
   "outputs": [
    {
     "data": {
      "text/html": [
       "<div>\n",
       "<style scoped>\n",
       "    .dataframe tbody tr th:only-of-type {\n",
       "        vertical-align: middle;\n",
       "    }\n",
       "\n",
       "    .dataframe tbody tr th {\n",
       "        vertical-align: top;\n",
       "    }\n",
       "\n",
       "    .dataframe thead th {\n",
       "        text-align: right;\n",
       "    }\n",
       "</style>\n",
       "<table border=\"1\" class=\"dataframe\">\n",
       "  <thead>\n",
       "    <tr style=\"text-align: right;\">\n",
       "      <th></th>\n",
       "      <th>year</th>\n",
       "      <th>36N</th>\n",
       "      <th>46N</th>\n",
       "    </tr>\n",
       "  </thead>\n",
       "  <tbody>\n",
       "    <tr>\n",
       "      <th>24</th>\n",
       "      <td>1990</td>\n",
       "      <td>3.568</td>\n",
       "      <td>-0.821</td>\n",
       "    </tr>\n",
       "    <tr>\n",
       "      <th>25</th>\n",
       "      <td>1990</td>\n",
       "      <td>5.526</td>\n",
       "      <td>2.073</td>\n",
       "    </tr>\n",
       "    <tr>\n",
       "      <th>26</th>\n",
       "      <td>1990</td>\n",
       "      <td>10.714</td>\n",
       "      <td>1.928</td>\n",
       "    </tr>\n",
       "    <tr>\n",
       "      <th>27</th>\n",
       "      <td>1990</td>\n",
       "      <td>8.017</td>\n",
       "      <td>1.710</td>\n",
       "    </tr>\n",
       "    <tr>\n",
       "      <th>28</th>\n",
       "      <td>1990</td>\n",
       "      <td>4.836</td>\n",
       "      <td>1.202</td>\n",
       "    </tr>\n",
       "    <tr>\n",
       "      <th>...</th>\n",
       "      <td>...</td>\n",
       "      <td>...</td>\n",
       "      <td>...</td>\n",
       "    </tr>\n",
       "    <tr>\n",
       "      <th>343</th>\n",
       "      <td>2016</td>\n",
       "      <td>2.942</td>\n",
       "      <td>0.827</td>\n",
       "    </tr>\n",
       "    <tr>\n",
       "      <th>344</th>\n",
       "      <td>2016</td>\n",
       "      <td>2.436</td>\n",
       "      <td>0.713</td>\n",
       "    </tr>\n",
       "    <tr>\n",
       "      <th>345</th>\n",
       "      <td>2016</td>\n",
       "      <td>1.251</td>\n",
       "      <td>-0.020</td>\n",
       "    </tr>\n",
       "    <tr>\n",
       "      <th>346</th>\n",
       "      <td>2016</td>\n",
       "      <td>1.042</td>\n",
       "      <td>0.000</td>\n",
       "    </tr>\n",
       "    <tr>\n",
       "      <th>347</th>\n",
       "      <td>2016</td>\n",
       "      <td>3.263</td>\n",
       "      <td>0.062</td>\n",
       "    </tr>\n",
       "  </tbody>\n",
       "</table>\n",
       "<p>324 rows × 3 columns</p>\n",
       "</div>"
      ],
      "text/plain": [
       "     year     36N    46N\n",
       "24   1990   3.568 -0.821\n",
       "25   1990   5.526  2.073\n",
       "26   1990  10.714  1.928\n",
       "27   1990   8.017  1.710\n",
       "28   1990   4.836  1.202\n",
       "..    ...     ...    ...\n",
       "343  2016   2.942  0.827\n",
       "344  2016   2.436  0.713\n",
       "345  2016   1.251 -0.020\n",
       "346  2016   1.042  0.000\n",
       "347  2016   3.263  0.062\n",
       "\n",
       "[324 rows x 3 columns]"
      ]
     },
     "execution_count": 16,
     "metadata": {},
     "output_type": "execute_result"
    }
   ],
   "source": [
    "# subset - only need years 1990-2016 and latitudes 36 and 46? what is best to represent pnw?\n",
    "ii = ((beutidf['year'] >= 1990) & (beutidf['year'] <= 2016))\n",
    "beuti_sub = beutidf[ii]\n",
    "beuti_sub = beuti_sub.iloc[:, [0, 7, 17]]\n",
    "beuti_sub"
   ]
  },
  {
   "cell_type": "markdown",
   "id": "4626db4b-fadd-4d33-88eb-261e356ac6c0",
   "metadata": {},
   "source": [
    "36N will be used for central ca and 46N for pnw"
   ]
  },
  {
   "cell_type": "markdown",
   "id": "2ed2fb9c-8562-4921-81a6-b03b15861026",
   "metadata": {},
   "source": [
    "average by year bc i have to :("
   ]
  },
  {
   "cell_type": "markdown",
   "id": "3d0592e2-9ee9-4637-a702-543bbeb9d9b5",
   "metadata": {},
   "source": [
    "year needs to be a dt object to average by year using method below. how can i make it dt? if i can't, how can i average by year?"
   ]
  },
  {
   "cell_type": "code",
   "execution_count": 17,
   "id": "9c351a44-76a4-4b08-9710-0aae1c91aeb3",
   "metadata": {},
   "outputs": [
    {
     "ename": "AttributeError",
     "evalue": "Can only use .dt accessor with datetimelike values",
     "output_type": "error",
     "traceback": [
      "\u001b[0;31m---------------------------------------------------------------------------\u001b[0m",
      "\u001b[0;31mAttributeError\u001b[0m                            Traceback (most recent call last)",
      "Cell \u001b[0;32mIn[17], line 1\u001b[0m\n\u001b[0;32m----> 1\u001b[0m beuti_yearly \u001b[38;5;241m=\u001b[39m beuti_sub\u001b[38;5;241m.\u001b[39mgroupby(\u001b[43mbeuti_sub\u001b[49m\u001b[43m[\u001b[49m\u001b[38;5;124;43m'\u001b[39;49m\u001b[38;5;124;43myear\u001b[39;49m\u001b[38;5;124;43m'\u001b[39;49m\u001b[43m]\u001b[49m\u001b[38;5;241;43m.\u001b[39;49m\u001b[43mdt\u001b[49m\u001b[38;5;241m.\u001b[39myear)[\u001b[38;5;124m'\u001b[39m\u001b[38;5;124m36N\u001b[39m\u001b[38;5;124m'\u001b[39m, \u001b[38;5;124m'\u001b[39m\u001b[38;5;124m46N\u001b[39m\u001b[38;5;124m'\u001b[39m]\u001b[38;5;241m.\u001b[39mmean()\u001b[38;5;241m.\u001b[39mreset_index()\n\u001b[1;32m      2\u001b[0m beuti_yearly\n",
      "File \u001b[0;32m~/miniconda3/lib/python3.11/site-packages/pandas/core/generic.py:6293\u001b[0m, in \u001b[0;36mNDFrame.__getattr__\u001b[0;34m(self, name)\u001b[0m\n\u001b[1;32m   6286\u001b[0m \u001b[38;5;28;01mif\u001b[39;00m (\n\u001b[1;32m   6287\u001b[0m     name \u001b[38;5;129;01mnot\u001b[39;00m \u001b[38;5;129;01min\u001b[39;00m \u001b[38;5;28mself\u001b[39m\u001b[38;5;241m.\u001b[39m_internal_names_set\n\u001b[1;32m   6288\u001b[0m     \u001b[38;5;129;01mand\u001b[39;00m name \u001b[38;5;129;01mnot\u001b[39;00m \u001b[38;5;129;01min\u001b[39;00m \u001b[38;5;28mself\u001b[39m\u001b[38;5;241m.\u001b[39m_metadata\n\u001b[1;32m   6289\u001b[0m     \u001b[38;5;129;01mand\u001b[39;00m name \u001b[38;5;129;01mnot\u001b[39;00m \u001b[38;5;129;01min\u001b[39;00m \u001b[38;5;28mself\u001b[39m\u001b[38;5;241m.\u001b[39m_accessors\n\u001b[1;32m   6290\u001b[0m     \u001b[38;5;129;01mand\u001b[39;00m \u001b[38;5;28mself\u001b[39m\u001b[38;5;241m.\u001b[39m_info_axis\u001b[38;5;241m.\u001b[39m_can_hold_identifiers_and_holds_name(name)\n\u001b[1;32m   6291\u001b[0m ):\n\u001b[1;32m   6292\u001b[0m     \u001b[38;5;28;01mreturn\u001b[39;00m \u001b[38;5;28mself\u001b[39m[name]\n\u001b[0;32m-> 6293\u001b[0m \u001b[38;5;28;01mreturn\u001b[39;00m \u001b[38;5;28;43mobject\u001b[39;49m\u001b[38;5;241;43m.\u001b[39;49m\u001b[38;5;21;43m__getattribute__\u001b[39;49m\u001b[43m(\u001b[49m\u001b[38;5;28;43mself\u001b[39;49m\u001b[43m,\u001b[49m\u001b[43m \u001b[49m\u001b[43mname\u001b[49m\u001b[43m)\u001b[49m\n",
      "File \u001b[0;32m~/miniconda3/lib/python3.11/site-packages/pandas/core/accessor.py:224\u001b[0m, in \u001b[0;36mCachedAccessor.__get__\u001b[0;34m(self, obj, cls)\u001b[0m\n\u001b[1;32m    221\u001b[0m \u001b[38;5;28;01mif\u001b[39;00m obj \u001b[38;5;129;01mis\u001b[39;00m \u001b[38;5;28;01mNone\u001b[39;00m:\n\u001b[1;32m    222\u001b[0m     \u001b[38;5;66;03m# we're accessing the attribute of the class, i.e., Dataset.geo\u001b[39;00m\n\u001b[1;32m    223\u001b[0m     \u001b[38;5;28;01mreturn\u001b[39;00m \u001b[38;5;28mself\u001b[39m\u001b[38;5;241m.\u001b[39m_accessor\n\u001b[0;32m--> 224\u001b[0m accessor_obj \u001b[38;5;241m=\u001b[39m \u001b[38;5;28;43mself\u001b[39;49m\u001b[38;5;241;43m.\u001b[39;49m\u001b[43m_accessor\u001b[49m\u001b[43m(\u001b[49m\u001b[43mobj\u001b[49m\u001b[43m)\u001b[49m\n\u001b[1;32m    225\u001b[0m \u001b[38;5;66;03m# Replace the property with the accessor object. Inspired by:\u001b[39;00m\n\u001b[1;32m    226\u001b[0m \u001b[38;5;66;03m# https://www.pydanny.com/cached-property.html\u001b[39;00m\n\u001b[1;32m    227\u001b[0m \u001b[38;5;66;03m# We need to use object.__setattr__ because we overwrite __setattr__ on\u001b[39;00m\n\u001b[1;32m    228\u001b[0m \u001b[38;5;66;03m# NDFrame\u001b[39;00m\n\u001b[1;32m    229\u001b[0m \u001b[38;5;28mobject\u001b[39m\u001b[38;5;241m.\u001b[39m\u001b[38;5;21m__setattr__\u001b[39m(obj, \u001b[38;5;28mself\u001b[39m\u001b[38;5;241m.\u001b[39m_name, accessor_obj)\n",
      "File \u001b[0;32m~/miniconda3/lib/python3.11/site-packages/pandas/core/indexes/accessors.py:643\u001b[0m, in \u001b[0;36mCombinedDatetimelikeProperties.__new__\u001b[0;34m(cls, data)\u001b[0m\n\u001b[1;32m    640\u001b[0m \u001b[38;5;28;01melif\u001b[39;00m \u001b[38;5;28misinstance\u001b[39m(data\u001b[38;5;241m.\u001b[39mdtype, PeriodDtype):\n\u001b[1;32m    641\u001b[0m     \u001b[38;5;28;01mreturn\u001b[39;00m PeriodProperties(data, orig)\n\u001b[0;32m--> 643\u001b[0m \u001b[38;5;28;01mraise\u001b[39;00m \u001b[38;5;167;01mAttributeError\u001b[39;00m(\u001b[38;5;124m\"\u001b[39m\u001b[38;5;124mCan only use .dt accessor with datetimelike values\u001b[39m\u001b[38;5;124m\"\u001b[39m)\n",
      "\u001b[0;31mAttributeError\u001b[0m: Can only use .dt accessor with datetimelike values"
     ]
    }
   ],
   "source": [
    "beuti_yearly = beuti_sub.groupby(beuti_sub['year'].dt.year)['36N', '46N'].mean().reset_index()\n",
    "beuti_yearly"
   ]
  },
  {
   "cell_type": "code",
   "execution_count": null,
   "id": "bb3be38a-f9b7-457b-be45-60653233724f",
   "metadata": {},
   "outputs": [],
   "source": []
  }
 ],
 "metadata": {
  "kernelspec": {
   "display_name": "Python 3 (ipykernel)",
   "language": "python",
   "name": "python3"
  },
  "language_info": {
   "codemirror_mode": {
    "name": "ipython",
    "version": 3
   },
   "file_extension": ".py",
   "mimetype": "text/x-python",
   "name": "python",
   "nbconvert_exporter": "python",
   "pygments_lexer": "ipython3",
   "version": "3.11.7"
  }
 },
 "nbformat": 4,
 "nbformat_minor": 5
}
